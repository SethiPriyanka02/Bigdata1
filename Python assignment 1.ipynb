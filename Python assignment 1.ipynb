{
 "cells": [
  {
   "cell_type": "markdown",
   "id": "514a0796",
   "metadata": {},
   "source": [
    "# Assignment Part-1\n"
   ]
  },
  {
   "cell_type": "markdown",
   "id": "976d2f7e",
   "metadata": {},
   "source": [
    "### Q1. Why do we call Python as a general purpose and high-level programming language?"
   ]
  },
  {
   "cell_type": "markdown",
   "id": "7b997eb5",
   "metadata": {},
   "source": [
    "Python is a general-purpose programming language that is capable of creating all types of programs and high-level programming language because it’s highly readable by humans."
   ]
  },
  {
   "cell_type": "markdown",
   "id": "1f44a3d1",
   "metadata": {},
   "source": [
    "### Q2. Why is Python called a dynamically typed language?"
   ]
  },
  {
   "cell_type": "markdown",
   "id": "d982c147",
   "metadata": {},
   "source": [
    "We don't have to declare the type of a variable or manage the memory while assigning a value to a variable in Python.It states the kind of variable in the runtime of the program. Python also take cares of the memory management which is crucial in programming. So, Python is a dynamically typed language."
   ]
  },
  {
   "cell_type": "markdown",
   "id": "760f64c1",
   "metadata": {},
   "source": [
    "### Q3. List some pros and cons of Python programming language?"
   ]
  },
  {
   "cell_type": "markdown",
   "id": "9915eba4",
   "metadata": {},
   "source": [
    "PROS:\n",
    "1.Easy to Read, Learn and Write.Python is a high-level programming language that has an English-like syntax.\n",
    "2.Python is a very productive language. Due to the simplicity of Python, developers can focus on solving the problem.\n",
    "3.Python is an interpreted language which means that Python directly executes the code line by line. In case of any error, it stops further execution and reports back the error which has occurred.\n",
    "4.Python doesn’t know the type of variable until we run the code. It automatically assigns the data type during execution. \n",
    "5.Free and Open-Source\n",
    "6.Vast Libraries Support and portability(In many languages like C/C++, you need to change your code to run the program on different platforms. That is not the same with Python. You only write once and run it anywhere)\n",
    "\n",
    "cons:\n",
    "1.The dynamic nature of Python is also responsible for the slow speed of Python because it has to do the extra work while executing code. \n",
    "2.Not Memory Efficient\n",
    "3.Weak in Mobile Computing(Python is not memory efficient and it has slow processing power )\n",
    "4.data base access(Python’s database access layer is primitive and underdeveloped in comparison to popular technologies like JDBC and ODBC.)\n",
    "5.Runtime Errors"
   ]
  },
  {
   "cell_type": "markdown",
   "id": "dcaa7971",
   "metadata": {},
   "source": [
    "### Q4. In what all domains can we use Python?"
   ]
  },
  {
   "cell_type": "markdown",
   "id": "17b94646",
   "metadata": {},
   "source": [
    "1.Web application development\n",
    "2.Data Science\n",
    "3.Artificial Intelligence\n",
    "4.Game development\n",
    "5.Web Scraping\n",
    "6.Scientific Computation\n",
    "7.Image recognition and text processing"
   ]
  },
  {
   "cell_type": "markdown",
   "id": "06bcd4fa",
   "metadata": {},
   "source": [
    "### Q5. What are variable and how can we declare them?"
   ]
  },
  {
   "cell_type": "markdown",
   "id": "5d5dabf3",
   "metadata": {},
   "source": [
    "variable is a name given to a memory location that stores data values.\n",
    "declaring a variable in Python is very simple.\n",
    "\n",
    "Just name the variable\n",
    "\n",
    "Assign the required value to it\n",
    "\n",
    "The data type of the variable will be automatically determined from the value assigned, we need not define it explicitly.\n",
    "ex:"
   ]
  },
  {
   "cell_type": "code",
   "execution_count": 2,
   "id": "962d0f0d",
   "metadata": {},
   "outputs": [
    {
     "name": "stdout",
     "output_type": "stream",
     "text": [
      "2\n",
      "<class 'int'>\n"
     ]
    }
   ],
   "source": [
    "#example\n",
    "x=2\n",
    "print(x)\n",
    "print(type(x))"
   ]
  },
  {
   "cell_type": "markdown",
   "id": "fe56d99a",
   "metadata": {},
   "source": [
    "### Q6. How can we take an input from the user in Python?"
   ]
  },
  {
   "cell_type": "code",
   "execution_count": 3,
   "id": "c8ddede0",
   "metadata": {},
   "outputs": [
    {
     "name": "stdout",
     "output_type": "stream",
     "text": [
      "Enter your value: 2\n",
      "2\n"
     ]
    }
   ],
   "source": [
    "val = input(\"Enter your value: \")\n",
    "print(val)"
   ]
  },
  {
   "cell_type": "markdown",
   "id": "d13d08cd",
   "metadata": {},
   "source": [
    "### Q7. What is the default datatype of the value that has been taken as an input using input() function?\n"
   ]
  },
  {
   "cell_type": "markdown",
   "id": "bb8b352a",
   "metadata": {},
   "source": [
    "By default, it returns a string object."
   ]
  },
  {
   "cell_type": "code",
   "execution_count": 4,
   "id": "bb95dded",
   "metadata": {},
   "outputs": [
    {
     "name": "stdout",
     "output_type": "stream",
     "text": [
      "Enter your value: 3\n",
      "3\n",
      "<class 'str'>\n"
     ]
    }
   ],
   "source": [
    "val = input(\"Enter your value: \")\n",
    "print(val)\n",
    "print(type(val))"
   ]
  },
  {
   "cell_type": "markdown",
   "id": "0f054bd1",
   "metadata": {},
   "source": [
    "### Q8. What is type casting?"
   ]
  },
  {
   "cell_type": "markdown",
   "id": "0ec8a26f",
   "metadata": {},
   "source": [
    "Explicit Type Conversion is also called Type Casting, the data types of objects are converted using predefined functions by the user."
   ]
  },
  {
   "cell_type": "code",
   "execution_count": 8,
   "id": "de2b85a8",
   "metadata": {},
   "outputs": [
    {
     "name": "stdout",
     "output_type": "stream",
     "text": [
      "<class 'int'>\n",
      "<class 'float'>\n",
      "10.0\n",
      "<class 'float'>\n"
     ]
    }
   ],
   "source": [
    "# implicit type casting\n",
    "# a to int\n",
    "a = 7\n",
    "print(type(a))\n",
    "b = 3.0\n",
    "print(type(b))\n",
    "# c to float as it is a float addition\n",
    "c = a + b\n",
    "print(c)\n",
    "print(type(c))"
   ]
  },
  {
   "cell_type": "code",
   "execution_count": 9,
   "id": "492dcd94",
   "metadata": {},
   "outputs": [
    {
     "name": "stdout",
     "output_type": "stream",
     "text": [
      "5.0\n",
      "<class 'float'>\n"
     ]
    }
   ],
   "source": [
    "#explicit type casting\n",
    "a = 5\n",
    "# typecast to float\n",
    "n = float(a)\n",
    "print(n)\n",
    "print(type(n))"
   ]
  },
  {
   "cell_type": "markdown",
   "id": "a14f2429",
   "metadata": {},
   "source": [
    "### Q9. Can we take more than one input from the user using single input() function? If yes, how? If no, why?"
   ]
  },
  {
   "cell_type": "markdown",
   "id": "141d3d5a",
   "metadata": {},
   "source": [
    " in Python user can take multiple values or inputs in one line by two methods. \n",
    "\n",
    "Using split() method\n",
    "Using List comprehension"
   ]
  },
  {
   "cell_type": "code",
   "execution_count": 14,
   "id": "74d4deb1",
   "metadata": {
    "scrolled": true
   },
   "outputs": [
    {
     "name": "stdout",
     "output_type": "stream",
     "text": [
      "Enter two values: 2 3\n",
      "Number of boys:  2\n",
      "Number of girls:  3\n",
      "\n"
     ]
    }
   ],
   "source": [
    "# taking two inputs at a time\n",
    "x, y = input(\"Enter two values: \").split()\n",
    "print(\"Number of boys: \", x)\n",
    "print(\"Number of girls: \", y)\n",
    "print()"
   ]
  },
  {
   "cell_type": "code",
   "execution_count": 15,
   "id": "865d0d00",
   "metadata": {},
   "outputs": [
    {
     "name": "stdout",
     "output_type": "stream",
     "text": [
      "Enter two values: 3 45\n",
      "First number is 3 and second number is 45\n",
      "\n"
     ]
    }
   ],
   "source": [
    "# taking two inputs at a time\n",
    "x, y = [int(x) for x in input(\"Enter two values: \").split()]\n",
    "print(\"First number is {} and second number is {}\".format(x, y))\n",
    "print()"
   ]
  },
  {
   "cell_type": "code",
   "execution_count": 16,
   "id": "4580c88b",
   "metadata": {},
   "outputs": [
    {
     "name": "stdout",
     "output_type": "stream",
     "text": [
      "Enter multiple value: 2,3,4,5\n",
      "Number of list is:  [2, 3, 4, 5]\n"
     ]
    }
   ],
   "source": [
    "# taking multiple inputs at a time separated by comma\n",
    "x = [int(x) for x in input(\"Enter multiple value: \").split(\",\")]\n",
    "print(\"Number of list is: \", x)"
   ]
  },
  {
   "cell_type": "markdown",
   "id": "876e553d",
   "metadata": {},
   "source": [
    "### Q10. What are keywords?"
   ]
  },
  {
   "cell_type": "markdown",
   "id": "09953591",
   "metadata": {},
   "source": [
    "Python also has some reserved words. These words hold some special meaning. Sometimes it may be a command, or a parameter etc. We cannot use keywords as variable names.\n",
    "ex:True,False,And,del,break etc"
   ]
  },
  {
   "cell_type": "markdown",
   "id": "140385c3",
   "metadata": {},
   "source": [
    "### Q11. Can we use keywords as a variable? Support your answer with reason.\n"
   ]
  },
  {
   "cell_type": "markdown",
   "id": "e573f39a",
   "metadata": {},
   "source": [
    "Keywords are predefined, reserved words used in Python programming that have special meanings to the compiler.\n",
    "\n",
    "We cannot use a keyword as a variable name, function name, or any other identifier. They are used to define the syntax and structure of the Python language."
   ]
  },
  {
   "cell_type": "markdown",
   "id": "3af1843f",
   "metadata": {},
   "source": [
    "### Q12. What is indentation? What's the use of indentaion in Python?"
   ]
  },
  {
   "cell_type": "markdown",
   "id": "af1ee446",
   "metadata": {},
   "source": [
    "Indentation in Python refers to the whitespaces at the start of the line. We can create indentation using space or tabs. When writing Python code, we have to define a group of statements for functions and loops. This is done by properly indenting the statements for that block."
   ]
  },
  {
   "cell_type": "markdown",
   "id": "9af362ff",
   "metadata": {},
   "source": [
    "### Q13. How can we throw some output in Python?"
   ]
  },
  {
   "cell_type": "code",
   "execution_count": 20,
   "id": "99eabead",
   "metadata": {},
   "outputs": [
    {
     "name": "stdout",
     "output_type": "stream",
     "text": [
      "k g f\n",
      "kgf@k...g...f\n"
     ]
    }
   ],
   "source": [
    "print('k', 'g', 'f')\n",
    "print(\"kgf\", end = \"@\")\n",
    " \n",
    "# code for disabling the softspace feature \n",
    "print('k', 'g', 'f', sep=\"...\")"
   ]
  },
  {
   "cell_type": "code",
   "execution_count": 24,
   "id": "14997db8",
   "metadata": {},
   "outputs": [
    {
     "name": "stdout",
     "output_type": "stream",
     "text": [
      "Hello abc! How are you?\n",
      "value abc\n"
     ]
    }
   ],
   "source": [
    "name = \"abc\"\n",
    "# Output\n",
    "print(f'Hello {name}! How are you?')\n",
    "print('value {}'.format(name))"
   ]
  },
  {
   "cell_type": "markdown",
   "id": "2282b99b",
   "metadata": {},
   "source": [
    "### Q14. What are operators in Python?"
   ]
  },
  {
   "cell_type": "markdown",
   "id": "184cb5a7",
   "metadata": {},
   "source": [
    "Operators are used to perform operations on variables and values."
   ]
  },
  {
   "cell_type": "raw",
   "id": "34ccea1e",
   "metadata": {},
   "source": [
    "1.Arithmetic Operators\n",
    "2.Bitwise Operators\n",
    "3.Membership Operators\n",
    "4.Identity Operators\n",
    "5.Comparison Operators\n",
    "6.Assignment Operators\n",
    "7.Logical Operators"
   ]
  },
  {
   "cell_type": "markdown",
   "id": "2631b140",
   "metadata": {},
   "source": [
    "### Q15. What is difference between / and // operators"
   ]
  },
  {
   "cell_type": "code",
   "execution_count": 29,
   "id": "8e0b8be4",
   "metadata": {},
   "outputs": [
    {
     "name": "stdout",
     "output_type": "stream",
     "text": [
      "2.5\n",
      "2\n",
      "2.0\n",
      "2.0\n"
     ]
    }
   ],
   "source": [
    "#'/' is the division operator. '//' is the floor division operator.\n",
    "print(5/2)\n",
    "print(5//2)\n",
    "print(5//2.0)\n",
    "print(5.0//2.0)"
   ]
  },
  {
   "cell_type": "markdown",
   "id": "a84381a9",
   "metadata": {},
   "source": [
    "### Q16. Write a code that gives following as an output.\n",
    "```\n",
    "iNeuroniNeuroniNeuroniNeuron\n",
    "```"
   ]
  },
  {
   "cell_type": "code",
   "execution_count": 30,
   "id": "8bfb70c5",
   "metadata": {},
   "outputs": [
    {
     "name": "stdout",
     "output_type": "stream",
     "text": [
      "iNeuroniNeuroniNeuroniNeuron\n"
     ]
    }
   ],
   "source": [
    "print(\"iNeuron\"*4)"
   ]
  },
  {
   "cell_type": "markdown",
   "id": "102557fe",
   "metadata": {},
   "source": [
    "### Q17. Write a code to take a number as an input from the user and check if the number is odd or even."
   ]
  },
  {
   "cell_type": "code",
   "execution_count": 38,
   "id": "5fa584a1",
   "metadata": {},
   "outputs": [
    {
     "name": "stdout",
     "output_type": "stream",
     "text": [
      "enter a number:5\n",
      "5 is odd\n"
     ]
    }
   ],
   "source": [
    "num=int(input(\"enter a number:\"))\n",
    "if(num%2==0):\n",
    "    print(\"{0} is even\".format(num))\n",
    "else:\n",
    "    print(\"{0} is odd\".format(num))"
   ]
  },
  {
   "cell_type": "markdown",
   "id": "c1b6b21f",
   "metadata": {},
   "source": [
    "### Q18. What are boolean operator?"
   ]
  },
  {
   "cell_type": "markdown",
   "id": "e5028524",
   "metadata": {},
   "source": [
    "The logical operators and, or and not are also referred to as Boolean operators. While and as well as or operator needs two operands, which may evaluate to true or false, not operator needs one operand evaluating to true or false."
   ]
  },
  {
   "cell_type": "markdown",
   "id": "6da91a1e",
   "metadata": {},
   "source": [
    "### Q19. What will the output of the following?\n"
   ]
  },
  {
   "cell_type": "code",
   "execution_count": 44,
   "id": "a0bbce9e",
   "metadata": {},
   "outputs": [
    {
     "name": "stdout",
     "output_type": "stream",
     "text": [
      "1\n",
      "0\n",
      "False\n",
      "1\n"
     ]
    }
   ],
   "source": [
    "print(1 or 0)\n",
    "\n",
    "print(0 and 0)\n",
    "\n",
    "print(True and False and True)\n",
    "\n",
    "print(1 or 0 or 0)\n"
   ]
  },
  {
   "cell_type": "markdown",
   "id": "39b56175",
   "metadata": {},
   "source": [
    "### Q20. What are conditional statements in Python?"
   ]
  },
  {
   "cell_type": "markdown",
   "id": "20aa7e3b",
   "metadata": {},
   "source": [
    "A conditional statement in python, also called a condition constructs, is a statement that accommodates a condition inside itself. This condition is constructed using the bitwise, boolean, and comparison operators in Python.\n",
    " A conditional statement always generates a boolean output that is either true or false."
   ]
  },
  {
   "cell_type": "markdown",
   "id": "7a8da371",
   "metadata": {},
   "source": [
    "### Q21. What is use of 'if', 'elif' and 'else' keywords?"
   ]
  },
  {
   "cell_type": "markdown",
   "id": "70fb5918",
   "metadata": {},
   "source": [
    "'If'-if is the condition following the keyword if evaluates as true, the block of code will execute.\n",
    "'else' -You can optionally add an else response that will execute if the condition is false\n",
    "'elif'-Multiple conditions can be checked by including one or more elif checks after your initial if statement. Just keep in mind that only one condition will execute"
   ]
  },
  {
   "cell_type": "markdown",
   "id": "ed98d732",
   "metadata": {},
   "source": [
    "### Q22. Write a code to take the age of person as an input and if age >= 18 display \"I can vote\". If age is < 18 display \"I can't vote\""
   ]
  },
  {
   "cell_type": "code",
   "execution_count": 45,
   "id": "39674d29",
   "metadata": {},
   "outputs": [
    {
     "name": "stdout",
     "output_type": "stream",
     "text": [
      "the age of person:4\n",
      "I can't vote\n"
     ]
    }
   ],
   "source": [
    "age=int(input(\"the age of person:\"))\n",
    "if age >= 18:\n",
    "    print(\"i can vote\")\n",
    "elif age < 18:\n",
    "    print(\"I can't vote\")\n",
    "    "
   ]
  },
  {
   "cell_type": "markdown",
   "id": "b979fc9b",
   "metadata": {},
   "source": [
    "### Q23. Write a code that displays the sum of all the even numbers from the given list.\n",
    "```\n",
    "numbers = [12, 75, 150, 180, 145, 525, 50]\n",
    "```"
   ]
  },
  {
   "cell_type": "code",
   "execution_count": 46,
   "id": "c4d63be3",
   "metadata": {},
   "outputs": [
    {
     "name": "stdout",
     "output_type": "stream",
     "text": [
      "392\n"
     ]
    }
   ],
   "source": [
    "numbers = [12, 75, 150, 180, 145, 525, 50]\n",
    "sum=0\n",
    "for i in numbers:\n",
    "    if (i%2==0):\n",
    "        sum=sum+i\n",
    "print(sum)        \n",
    "        "
   ]
  },
  {
   "cell_type": "markdown",
   "id": "aef13b94",
   "metadata": {},
   "source": [
    "### Q24. Write a code to take 3 numbers as an input from the user and display the greatest no as output.\n"
   ]
  },
  {
   "cell_type": "code",
   "execution_count": 50,
   "id": "81df0ec9",
   "metadata": {},
   "outputs": [
    {
     "name": "stdout",
     "output_type": "stream",
     "text": [
      "enter 1st number45\n",
      "enter 2nd number67\n",
      "enter 3rd number90\n",
      "90\n"
     ]
    }
   ],
   "source": [
    "x=int(input(\"enter 1st number\"))\n",
    "y=int(input(\"enter 2nd number\"))\n",
    "z=int(input(\"enter 3rd number\"))\n",
    "def maximum(x, y, z):\n",
    "    if (x >= y) and (x >= z):\n",
    "        largest = x\n",
    "    elif (y >= x) and (y >= z):\n",
    "        largest = y\n",
    "    else:\n",
    "        largest = z\n",
    "    return largest\n",
    "print(maximum(x,y,z))"
   ]
  },
  {
   "cell_type": "markdown",
   "id": "11bdb5b6",
   "metadata": {},
   "source": [
    "### Q25. Write a program to display only those numbers from a list that satisfy the following conditions\n",
    "\n",
    "- The number must be divisible by five\n",
    "\n",
    "- If the number is greater than 150, then skip it and move to the next number\n",
    "\n",
    "- If the number is greater than 500, then stop the loop\n",
    "```\n",
    "numbers = [12, 75, 150, 180, 145, 525, 50]\n",
    "```"
   ]
  },
  {
   "cell_type": "code",
   "execution_count": 87,
   "id": "309d343c",
   "metadata": {},
   "outputs": [
    {
     "name": "stdout",
     "output_type": "stream",
     "text": [
      "75\n",
      "150\n",
      "180\n",
      "145\n"
     ]
    }
   ],
   "source": [
    "numbers = [12, 75, 150, 180, 145, 525, 50]\n",
    "for i in numbers:\n",
    "    if i>500:\n",
    "        break\n",
    "    if(i%5==0):\n",
    "        print(i)\n",
    "    elif i>150:\n",
    "        continue\n",
    "    "
   ]
  },
  {
   "cell_type": "markdown",
   "id": "144b6fb9",
   "metadata": {},
   "source": [
    "### Q26. What is a string? How can we declare string in Python?"
   ]
  },
  {
   "cell_type": "markdown",
   "id": "86ef3a4b",
   "metadata": {},
   "source": [
    "Strings in python are surrounded by either single quotation marks, or double quotation marks."
   ]
  },
  {
   "cell_type": "code",
   "execution_count": 89,
   "id": "9bfd458a",
   "metadata": {},
   "outputs": [
    {
     "name": "stdout",
     "output_type": "stream",
     "text": [
      "Hello World!\n",
      "bigdata\n"
     ]
    }
   ],
   "source": [
    "a_string = 'Hello World!'\n",
    "b_string = \"bigdata\"\n",
    "print(a_string)\n",
    "print(b_string)"
   ]
  },
  {
   "cell_type": "markdown",
   "id": "60e9b249",
   "metadata": {},
   "source": [
    "### Q27. How can we access the string using its index?"
   ]
  },
  {
   "cell_type": "code",
   "execution_count": 94,
   "id": "ca8a6170",
   "metadata": {},
   "outputs": [
    {
     "name": "stdout",
     "output_type": "stream",
     "text": [
      "Hello\n"
     ]
    }
   ],
   "source": [
    "#You can access the characters in a string by referring to its index number inside square brackets []\n",
    "txt = \"Hello, welcome to my world.\"\n",
    "print(txt[0:5])"
   ]
  },
  {
   "cell_type": "markdown",
   "id": "8514615f",
   "metadata": {},
   "source": [
    "### Q28. Write a code to get the desired output of the following\n",
    "```\n",
    "string = \"Big Data iNeuron\"\n",
    "desired_output = \"iNeuron\"\n",
    "```\n"
   ]
  },
  {
   "cell_type": "code",
   "execution_count": 97,
   "id": "c6745c0a",
   "metadata": {},
   "outputs": [
    {
     "name": "stdout",
     "output_type": "stream",
     "text": [
      "iNeuron\n"
     ]
    }
   ],
   "source": [
    "string = \"Big Data iNeuron\"\n",
    "print(string[9:])\n"
   ]
  },
  {
   "cell_type": "markdown",
   "id": "dd27fd12",
   "metadata": {},
   "source": [
    "### Q29. Write a code to get the desired output of the following\n",
    "```\n",
    "string = \"Big Data iNeuron\"\n",
    "desired_output = \"norueNi\"\n",
    "```\n"
   ]
  },
  {
   "cell_type": "code",
   "execution_count": 109,
   "id": "3e43860f",
   "metadata": {},
   "outputs": [
    {
     "name": "stdout",
     "output_type": "stream",
     "text": [
      "norueNi \n"
     ]
    }
   ],
   "source": [
    "string = \"Big Data iNeuron\"\n",
    "print(string[:-9:-1])"
   ]
  },
  {
   "cell_type": "markdown",
   "id": "bf81d144",
   "metadata": {},
   "source": [
    "### Q30. Resverse the string given in the above question."
   ]
  },
  {
   "cell_type": "code",
   "execution_count": 110,
   "id": "d0108d49",
   "metadata": {},
   "outputs": [
    {
     "name": "stdout",
     "output_type": "stream",
     "text": [
      "norueNi ataD giB\n"
     ]
    }
   ],
   "source": [
    "string = \"Big Data iNeuron\"\n",
    "print(string[::-1])"
   ]
  },
  {
   "cell_type": "markdown",
   "id": "e7638864",
   "metadata": {},
   "source": [
    "### Q31. How can you delete entire string at once?"
   ]
  },
  {
   "cell_type": "code",
   "execution_count": 2,
   "id": "b22bd520",
   "metadata": {},
   "outputs": [],
   "source": [
    "#we can delete entire string at once using 'del' keyword\n",
    "string = \"Big Data iNeuron\"\n",
    "del string\n",
    "#print(string)"
   ]
  },
  {
   "cell_type": "markdown",
   "id": "519ae458",
   "metadata": {},
   "source": [
    "### Q32.What is escape sequence?"
   ]
  },
  {
   "cell_type": "markdown",
   "id": "4779531f",
   "metadata": {},
   "source": [
    "An escape sequence is a special character used in the form of backslash (\\) followed by a character that is required.\n",
    "These characters are used to represent whitespace.\n",
    "Whitespace gives characters like space, tab, formfeed, vertical tab."
   ]
  },
  {
   "cell_type": "code",
   "execution_count": 12,
   "id": "e5e4a5c4",
   "metadata": {},
   "outputs": [
    {
     "name": "stdout",
     "output_type": "stream",
     "text": [
      "python\\ assignment\n",
      "That's my bag.\n",
      "python\n",
      " assignment\n",
      "python\tassignment\n",
      "python \bassignment\n",
      "PYTHON GUIDES\n",
      "PYTHON GUIDES\n"
     ]
    }
   ],
   "source": [
    "string = \"python\\\\ assignment\"\n",
    "print(string)\n",
    "string = 'That\\'s my bag.'#to use \\’ single quote in strings \n",
    "print(string)\n",
    "string = \"python\\n assignment\"#for new line\n",
    "print(string)\n",
    "string = \"python\\tassignment\"#“\\t” character to get space between the words\n",
    "print(string)\n",
    "string = \"python \\bassignment\" #used “\\b” to remove the space between the words\n",
    "print(string)\n",
    "string = \"\\x50\\x59\\x54\\x48\\x4f\\x4E \\x47\\x55\\x49\\x44\\x45\\x53\"#Python escape sequence for Hexa value\n",
    "print(string)\n",
    "string = \"\\120\\131\\124\\110\\117\\116 \\107\\125\\111\\104\\105\\123\"#Python escape sequence for Octal value\n",
    "print(string)"
   ]
  },
  {
   "cell_type": "markdown",
   "id": "16823ac5",
   "metadata": {},
   "source": [
    "### Q33. How can you print the below string?\n",
    "```\n",
    "'iNeuron's Big Data Course'\n",
    "```"
   ]
  },
  {
   "cell_type": "code",
   "execution_count": 10,
   "id": "8bd5f755",
   "metadata": {},
   "outputs": [
    {
     "name": "stdout",
     "output_type": "stream",
     "text": [
      "iNeuron's Big Data Course\n"
     ]
    }
   ],
   "source": [
    "string = 'iNeuron\\'s Big Data Course'\n",
    "print(string)"
   ]
  },
  {
   "cell_type": "markdown",
   "id": "07671dd0",
   "metadata": {},
   "source": [
    "### Q34. What is a list in Python?"
   ]
  },
  {
   "cell_type": "markdown",
   "id": "4db6bc40",
   "metadata": {},
   "source": [
    "List is a collection which is ordered and changeable. Allows duplicate members.\n",
    "The list is a sequence data type which is used to store the collection of data"
   ]
  },
  {
   "cell_type": "markdown",
   "id": "d24f725d",
   "metadata": {},
   "source": [
    "### Q35. How can you create a list in Python?"
   ]
  },
  {
   "cell_type": "code",
   "execution_count": 15,
   "id": "bcc698e8",
   "metadata": {},
   "outputs": [
    {
     "name": "stdout",
     "output_type": "stream",
     "text": [
      "\n",
      "List of numbers: \n",
      "[10, 'python', 14.6]\n"
     ]
    }
   ],
   "source": [
    "#Lists in Python can be created by just placing the sequence inside the square brackets[].\n",
    "List = [10,'python', 14.6]\n",
    "print(\"\\nList of numbers: \")\n",
    "print(List)"
   ]
  },
  {
   "cell_type": "markdown",
   "id": "f243c269",
   "metadata": {},
   "source": [
    "### Q36. How can we access the elements in a list?"
   ]
  },
  {
   "cell_type": "code",
   "execution_count": 17,
   "id": "e10f517a",
   "metadata": {},
   "outputs": [
    {
     "name": "stdout",
     "output_type": "stream",
     "text": [
      "Accessing a element from the list\n",
      "bigdata\n",
      "ineuron\n"
     ]
    }
   ],
   "source": [
    "List = [\"bigdata\", \"course\", \"ineuron\"]\n",
    "# accessing a element from the\n",
    "# list using index number\n",
    "print(\"Accessing a element from the list\")\n",
    "print(List[0])\n",
    "print(List[2])"
   ]
  },
  {
   "cell_type": "markdown",
   "id": "e797e2ce",
   "metadata": {},
   "source": [
    "### Q37. Write a code to access the word \"iNeuron\" from the given list.\n",
    "```\n",
    "lst = [1,2,3,\"Hi\",[45,54, \"iNeuron\"], \"Big Data\"]\n",
    "``` "
   ]
  },
  {
   "cell_type": "code",
   "execution_count": 39,
   "id": "0a9fa3c4",
   "metadata": {},
   "outputs": [
    {
     "name": "stdout",
     "output_type": "stream",
     "text": [
      "iNeuron\n"
     ]
    }
   ],
   "source": [
    "lst =[1,2,3,\"Hi\",[45,54, \"iNeuron\"], \"Big Data\"] \n",
    "lst2=lst[4]\n",
    "print(lst2[2])\n",
    "#print(lst[1][2])"
   ]
  },
  {
   "cell_type": "markdown",
   "id": "c9569ab7",
   "metadata": {},
   "source": [
    "### Q38. Take a list as an input from the user and find the length of the list."
   ]
  },
  {
   "cell_type": "code",
   "execution_count": 48,
   "id": "601aa7a3",
   "metadata": {},
   "outputs": [
    {
     "name": "stdout",
     "output_type": "stream",
     "text": [
      "Enter number of elements : 4\n",
      "3\n",
      "5\n",
      "5\n",
      "6\n",
      "[3, 5, 5, 6]\n",
      "4\n"
     ]
    }
   ],
   "source": [
    "lst = []  \n",
    "n = int(input(\"Enter number of elements : \"))\n",
    "for i in range(0, n):\n",
    "    ele = int(input())\n",
    "    lst.append(ele) # adding the element     \n",
    "print(lst)\n",
    "print(len(lst))"
   ]
  },
  {
   "cell_type": "markdown",
   "id": "69ee767d",
   "metadata": {},
   "source": [
    "### Q39. Add the word \"Big\" in the 3rd index of the given list.\n",
    "```\n",
    "lst = [\"Welcome\", \"to\", \"Data\", \"course\"]\n",
    "```"
   ]
  },
  {
   "cell_type": "code",
   "execution_count": 54,
   "id": "302dfedd",
   "metadata": {},
   "outputs": [
    {
     "name": "stdout",
     "output_type": "stream",
     "text": [
      "['Welcome', 'to', 'Data', 'Big', 'course']\n"
     ]
    }
   ],
   "source": [
    "lst = [\"Welcome\", \"to\", \"Data\", \"course\"]\n",
    "lst.insert(3, 'Big')\n",
    "print(lst)"
   ]
  },
  {
   "cell_type": "markdown",
   "id": "30be73da",
   "metadata": {},
   "source": [
    "### Q40. What is a tuple? How is it different from list?"
   ]
  },
  {
   "cell_type": "raw",
   "id": "84d903cb",
   "metadata": {},
   "source": [
    "1.Tuples are immutable\n",
    "2.The implication of iterations is comparatively Faster\n",
    "3.Tuple data type is appropriate for accessing the elements\n",
    "4.Tuple consumes less memory as compared to the list\n",
    "5.Tuple does not have many built-in methods.\n",
    "6.in tuple The unexpected changes and errors are hard to take place."
   ]
  },
  {
   "cell_type": "markdown",
   "id": "832e92f8",
   "metadata": {},
   "source": [
    "### Q41. How can you create a tuple in Python?"
   ]
  },
  {
   "cell_type": "code",
   "execution_count": 55,
   "id": "bef97c73",
   "metadata": {},
   "outputs": [
    {
     "name": "stdout",
     "output_type": "stream",
     "text": [
      "(1, 2, 3, 4, 'big')\n"
     ]
    }
   ],
   "source": [
    "#A tuple in Python can be created by enclosing all the comma-separated elements inside the parenthesis ()\n",
    "tuple=(1,2,3,4,\"big\")\n",
    "print(tuple)"
   ]
  },
  {
   "cell_type": "markdown",
   "id": "5df0baea",
   "metadata": {},
   "source": [
    "### Q42. Create a tuple and try to add your name in the tuple. Are you able to do it? Support your answer with reason."
   ]
  },
  {
   "cell_type": "code",
   "execution_count": 60,
   "id": "94fd05ed",
   "metadata": {},
   "outputs": [
    {
     "ename": "AttributeError",
     "evalue": "'tuple' object has no attribute 'append'",
     "output_type": "error",
     "traceback": [
      "\u001b[1;31m---------------------------------------------------------------------------\u001b[0m",
      "\u001b[1;31mAttributeError\u001b[0m                            Traceback (most recent call last)",
      "\u001b[1;32m<ipython-input-60-f50fa3abc3d3>\u001b[0m in \u001b[0;36m<module>\u001b[1;34m\u001b[0m\n\u001b[0;32m      1\u001b[0m \u001b[0mtuple\u001b[0m\u001b[1;33m=\u001b[0m\u001b[1;33m(\u001b[0m\u001b[1;36m1\u001b[0m\u001b[1;33m,\u001b[0m\u001b[1;36m2\u001b[0m\u001b[1;33m,\u001b[0m\u001b[1;36m3\u001b[0m\u001b[1;33m,\u001b[0m\u001b[1;36m4\u001b[0m\u001b[1;33m,\u001b[0m\u001b[1;34m\"big\"\u001b[0m\u001b[1;33m)\u001b[0m\u001b[1;33m\u001b[0m\u001b[1;33m\u001b[0m\u001b[0m\n\u001b[1;32m----> 2\u001b[1;33m \u001b[0mtuple\u001b[0m\u001b[1;33m.\u001b[0m\u001b[0mappend\u001b[0m\u001b[1;33m(\u001b[0m\u001b[1;34m\"priyanka\"\u001b[0m\u001b[1;33m)\u001b[0m\u001b[1;33m\u001b[0m\u001b[1;33m\u001b[0m\u001b[0m\n\u001b[0m\u001b[0;32m      3\u001b[0m \u001b[1;31m#Tuples are immutable\u001b[0m\u001b[1;33m\u001b[0m\u001b[1;33m\u001b[0m\u001b[1;33m\u001b[0m\u001b[0m\n",
      "\u001b[1;31mAttributeError\u001b[0m: 'tuple' object has no attribute 'append'"
     ]
    }
   ],
   "source": [
    "tuple=(1,2,3,4,\"big\")\n",
    "tuple.append(\"priyanka\")\n",
    "#Tuples are immutable"
   ]
  },
  {
   "cell_type": "code",
   "execution_count": 66,
   "id": "1875ae4d",
   "metadata": {},
   "outputs": [
    {
     "name": "stdout",
     "output_type": "stream",
     "text": [
      "(1, 2, 3, 'priyanka')\n"
     ]
    }
   ],
   "source": [
    "#we can achieve it by Appending to a tuple with concatenation\n",
    "#'+'operator, which allows us to combine two tuples.\n",
    "a_tuple = (1, 2, 3)\n",
    "a_tuple = a_tuple + (\"priyanka\",)\n",
    "print(a_tuple)"
   ]
  },
  {
   "cell_type": "markdown",
   "id": "59a3b2f3",
   "metadata": {},
   "source": [
    "### Q43. Can two tuple be appended. If yes, write a code for it. If not, why?"
   ]
  },
  {
   "cell_type": "code",
   "execution_count": 68,
   "id": "869b8703",
   "metadata": {},
   "outputs": [
    {
     "name": "stdout",
     "output_type": "stream",
     "text": [
      "(1, 2, 3, (4, 6))\n",
      "<class 'tuple'>\n"
     ]
    }
   ],
   "source": [
    "# Appending to a tuple with tuple unpacking\n",
    "#The unpacking operator, *, is used to access all the items in a container object, such as a tuple.\n",
    "#In order to append a value, we first unpack all the values of the first tuple, and then include the new value or values.\n",
    "a_tuple = (1, 2, 3)\n",
    "tuple2=(4,6)\n",
    "a_tuple = (*a_tuple, t2)\n",
    "print(a_tuple)"
   ]
  },
  {
   "cell_type": "markdown",
   "id": "b565d3b4",
   "metadata": {},
   "source": [
    "### Q44. Take a tuple as an input and print the count of elements in it."
   ]
  },
  {
   "cell_type": "code",
   "execution_count": 71,
   "id": "6374c64d",
   "metadata": {},
   "outputs": [
    {
     "name": "stdout",
     "output_type": "stream",
     "text": [
      "The count of 1 is: 3\n",
      "The count of 0 is: 2\n"
     ]
    }
   ],
   "source": [
    "# tuple of numbers\n",
    "numbers = (1, 0, 0, 1, 6 ,1 )\n",
    "# counts the number of 1's in the tuple\n",
    "count = numbers.count(1)\n",
    "print('The count of 1 is:', count)\n",
    "# counts the number of 7's in the tuple\n",
    "count = numbers.count(0)\n",
    "print('The count of 0 is:', count)\n"
   ]
  },
  {
   "cell_type": "markdown",
   "id": "45c2ddbe",
   "metadata": {},
   "source": [
    "### Q45. What are sets in Python?"
   ]
  },
  {
   "cell_type": "markdown",
   "id": "edd518a8",
   "metadata": {},
   "source": [
    "A Set is an unordered collection data type that is iterable, mutable and has no duplicate elements.                             Set are represented by { } "
   ]
  },
  {
   "cell_type": "markdown",
   "id": "a98ded3b",
   "metadata": {},
   "source": [
    "### Q46. How can you create a set?\n"
   ]
  },
  {
   "cell_type": "code",
   "execution_count": 72,
   "id": "85440387",
   "metadata": {},
   "outputs": [
    {
     "data": {
      "text/plain": [
       "set"
      ]
     },
     "execution_count": 72,
     "metadata": {},
     "output_type": "execute_result"
    }
   ],
   "source": [
    "var = {\"Geeks\", \"for\", \"Geeks\"}\n",
    "type(var)"
   ]
  },
  {
   "cell_type": "markdown",
   "id": "750bd816",
   "metadata": {},
   "source": [
    "### Q47. Create a set and add \"iNeuron\" in your set.\n"
   ]
  },
  {
   "cell_type": "code",
   "execution_count": 73,
   "id": "45a8a835",
   "metadata": {},
   "outputs": [
    {
     "name": "stdout",
     "output_type": "stream",
     "text": [
      "{'python', 'course', 'iNeuron', 'bigdata'}\n"
     ]
    }
   ],
   "source": [
    "# set of letters\n",
    "set= {'bigdata', 'python', 'course'}\n",
    "set.add('iNeuron')\n",
    "print(set)\n",
    " "
   ]
  },
  {
   "cell_type": "markdown",
   "id": "f4d8e172",
   "metadata": {},
   "source": [
    "### Q48. Try to add multiple values using add() function"
   ]
  },
  {
   "cell_type": "code",
   "execution_count": 78,
   "id": "aa38c618",
   "metadata": {},
   "outputs": [
    {
     "name": "stdout",
     "output_type": "stream",
     "text": [
      "{'python', (2, 6), 'course', 'bigdata'}\n"
     ]
    }
   ],
   "source": [
    "set= {'bigdata', 'python', 'course'} #add() requires hashable object such as string, tuple, etc but  list has unhashable object.\n",
    "set2=(2,6)\n",
    "set.add(set2)\n",
    "print(set)"
   ]
  },
  {
   "cell_type": "code",
   "execution_count": 82,
   "id": "c3d64b4d",
   "metadata": {},
   "outputs": [
    {
     "name": "stdout",
     "output_type": "stream",
     "text": [
      "Updated Set after addition:  {1, 2, 3, 4, 5, 6, 7}\n"
     ]
    }
   ],
   "source": [
    "set1 = {1, 2, 3, 4, 5}\n",
    "# list of numbers to add\n",
    "list1 = [6, 7]\n",
    "# Iterate over all elements of list and\n",
    "for ele in list1:\n",
    "        # add each element to the set\n",
    "        set1.add(ele)\n",
    "#prints updated set\n",
    "print('Updated Set after addition: ', set1)"
   ]
  },
  {
   "cell_type": "markdown",
   "id": "1eb34fd7",
   "metadata": {},
   "source": [
    "### Q49. How is update() different from add()?"
   ]
  },
  {
   "cell_type": "markdown",
   "id": "6f43324c",
   "metadata": {},
   "source": [
    "add() method adds a single item when used alone while update() method adds multiple items.\n",
    "add() method expects a single hashable type object while update() method expects an iterable object."
   ]
  },
  {
   "cell_type": "code",
   "execution_count": 85,
   "id": "375ca405",
   "metadata": {},
   "outputs": [
    {
     "name": "stdout",
     "output_type": "stream",
     "text": [
      "Updated set after adding elements:  {1, 2, 3, 4, 5, 6, 7, 8, 18, 19}\n"
     ]
    }
   ],
   "source": [
    "#input set\n",
    "set1 = {1, 2, 3, 4, 5}\n",
    "# a list of numbers to add\n",
    "list_to_add = [6, 7, 8]\n",
    "list2 = [18, 19]\n",
    "# add all elements of list to the set\n",
    "set1.update(list_to_add,list2)\n",
    "print('Updated set after adding elements: ', set1)"
   ]
  },
  {
   "cell_type": "markdown",
   "id": "0268cb4c",
   "metadata": {},
   "source": [
    "### Q50. What is clear() in sets?"
   ]
  },
  {
   "cell_type": "code",
   "execution_count": 87,
   "id": "004c29cc",
   "metadata": {},
   "outputs": [
    {
     "name": "stdout",
     "output_type": "stream",
     "text": [
      "set()\n"
     ]
    }
   ],
   "source": [
    "#Python Set clear() method removes all elements from the set\n",
    "fruits = {\"apple\", \"banana\", \"cherry\"}\n",
    "fruits.clear()\n",
    "print(fruits)\n"
   ]
  },
  {
   "cell_type": "markdown",
   "id": "b71ddc14",
   "metadata": {},
   "source": [
    "### Q51. What is frozen set?"
   ]
  },
  {
   "cell_type": "markdown",
   "id": "14a252d2",
   "metadata": {},
   "source": [
    "Frozen set is just an immutable version of a Python set object. While elements of a set can be modified at any time, elements of the frozen set remain the same after creation.\n",
    "\n",
    "Due to this, frozen sets can be used as keys in Dictionary or as elements of another set"
   ]
  },
  {
   "cell_type": "code",
   "execution_count": 88,
   "id": "bab333c4",
   "metadata": {},
   "outputs": [
    {
     "name": "stdout",
     "output_type": "stream",
     "text": [
      "frozenset Object is :  frozenset({'big', 'data', 'python'})\n"
     ]
    }
   ],
   "source": [
    "l = [\"big\", \"data\", \"python\"]  \n",
    "# converting tuple to frozenset\n",
    "fnum = frozenset(l)  \n",
    "# printing empty frozenset object\n",
    "print(\"frozenset Object is : \", fnum)"
   ]
  },
  {
   "cell_type": "markdown",
   "id": "f04dbd4b",
   "metadata": {},
   "source": [
    "### Q52. How is frozen set different from set?"
   ]
  },
  {
   "cell_type": "markdown",
   "id": "c6218acb",
   "metadata": {},
   "source": [
    "Frozen set is just an immutable version of a Python set object. While elements of a set can be modified at any time, elements of the frozen set remain the same after creation.Use (frozen) sets when you are dealing with collections and where what matters is (fast) membership checking."
   ]
  },
  {
   "cell_type": "markdown",
   "id": "f8e90a37",
   "metadata": {},
   "source": [
    "### Q53. What is union() in sets? Explain via code."
   ]
  },
  {
   "cell_type": "code",
   "execution_count": null,
   "id": "e67fc6ce",
   "metadata": {},
   "outputs": [],
   "source": [
    "#The Union() is a method in Python that returns a new set which contains distinct items from all the set"
   ]
  },
  {
   "cell_type": "code",
   "execution_count": 90,
   "id": "d82e3c92",
   "metadata": {},
   "outputs": [
    {
     "name": "stdout",
     "output_type": "stream",
     "text": [
      "{'data', 'course', 'big', 'python'}\n"
     ]
    }
   ],
   "source": [
    "chocolates = {\"big\", \"data\", \"python\"}\n",
    "fruits = {\"big\", \"course\", \"python\"}\n",
    "chocolates_fruits = chocolates.union(fruits)\n",
    "print(chocolates_fruits)"
   ]
  },
  {
   "cell_type": "markdown",
   "id": "a8bac568",
   "metadata": {},
   "source": [
    "### Q54. What is intersection() in sets? Explain via code.\n"
   ]
  },
  {
   "cell_type": "markdown",
   "id": "743dae13",
   "metadata": {},
   "source": [
    "Python set intersection() method returns a new set with an element that is common to all set\n",
    "\n",
    "The intersection of two given sets is the largest set, which contains all the elements that are common to both sets. The intersection of two given sets A and B is a set which consists of all the elements which are common to both A and B."
   ]
  },
  {
   "cell_type": "code",
   "execution_count": 92,
   "id": "227cb009",
   "metadata": {},
   "outputs": [
    {
     "name": "stdout",
     "output_type": "stream",
     "text": [
      "{2, 3}\n"
     ]
    }
   ],
   "source": [
    "s1 = {1, 2, 3}\n",
    "s2 = {2, 3, 8}\n",
    "print(s1.intersection(s2))"
   ]
  },
  {
   "cell_type": "markdown",
   "id": "e46004f5",
   "metadata": {},
   "source": [
    "### Q55. What is dictionary ibn Python?"
   ]
  },
  {
   "cell_type": "markdown",
   "id": "1b1227ca",
   "metadata": {},
   "source": [
    "#Dictionary in Python is a collection of keys values, used to store data values like a map, which, unlike other data types which hold only a single value as an element."
   ]
  },
  {
   "cell_type": "markdown",
   "id": "86765277",
   "metadata": {},
   "source": [
    "### Q57. How can we delare a dictionary in Python?"
   ]
  },
  {
   "cell_type": "code",
   "execution_count": 97,
   "id": "53f55f54",
   "metadata": {},
   "outputs": [
    {
     "name": "stdout",
     "output_type": "stream",
     "text": [
      "\n",
      "Dictionary with the use of Integer Keys: \n",
      "{1: 'big', 2: 'data', 3: 'Python'}\n",
      "<class 'dict'>\n"
     ]
    }
   ],
   "source": [
    "Dict = {1: 'big', 2: 'data', 3: 'Python'}\n",
    "print(\"\\nDictionary with the use of Integer Keys: \")\n",
    "print(Dict)\n",
    "print(type(Dict))"
   ]
  },
  {
   "cell_type": "markdown",
   "id": "819c9ab1",
   "metadata": {},
   "source": [
    "### Q58. What will the output of the following?\n",
    "```\n",
    "var = {}\n",
    "print(type(var))\n",
    "```"
   ]
  },
  {
   "cell_type": "code",
   "execution_count": 98,
   "id": "18e5a004",
   "metadata": {},
   "outputs": [
    {
     "name": "stdout",
     "output_type": "stream",
     "text": [
      "<class 'dict'>\n"
     ]
    }
   ],
   "source": [
    "var = {}\n",
    "print(type(var))"
   ]
  },
  {
   "cell_type": "markdown",
   "id": "4a223ea9",
   "metadata": {},
   "source": [
    "### Q59. How can we add an element in a dictionary?"
   ]
  },
  {
   "cell_type": "code",
   "execution_count": 102,
   "id": "89abc8bc",
   "metadata": {},
   "outputs": [
    {
     "name": "stdout",
     "output_type": "stream",
     "text": [
      "\n",
      "Dictionary after adding 3 elements: \n",
      "{0: 'bigdata', 2: 'Python', 3: 0}\n",
      "\n",
      "Dictionary after adding 3 elements: \n",
      "{0: 'bigdata', 2: 'Python', 3: 0, 'Value_set': (2, 3, 4)}\n",
      "\n",
      "Updated key value: \n",
      "{0: 'bigdata', 2: 'Welcome', 3: 0, 'Value_set': (2, 3, 4)}\n",
      "\n",
      "Adding a Nested Key: \n",
      "{0: 'bigdata', 2: 'Welcome', 3: 0, 'Value_set': (2, 3, 4), 5: {'Nested': {'1': 'python', '2': 'bigdata'}}}\n"
     ]
    }
   ],
   "source": [
    "# Adding elements one at a time\n",
    "Dict = {}\n",
    "Dict[0] = 'bigdata'\n",
    "Dict[2] = 'Python'\n",
    "Dict[3] = 0\n",
    "print(\"\\nDictionary after adding 3 elements: \")\n",
    "print(Dict)\n",
    "  \n",
    "# Adding set of values\n",
    "# to a single Key\n",
    "Dict['Value_set'] = 2, 3, 4\n",
    "print(\"\\nDictionary after adding 3 elements: \")\n",
    "print(Dict)\n",
    "  \n",
    "# Updating existing Key's Value\n",
    "Dict[2] = 'Welcome'\n",
    "print(\"\\nUpdated key value: \")\n",
    "print(Dict)\n",
    "  \n",
    "# Adding Nested Key value to Dictionary\n",
    "Dict[5] = {'Nested': {'1': 'python', '2': 'bigdata'}}\n",
    "print(\"\\nAdding a Nested Key: \")\n",
    "print(Dict)"
   ]
  },
  {
   "cell_type": "markdown",
   "id": "7f7bc924",
   "metadata": {},
   "source": [
    "### Q60. Create a dictionary and access all the values in that dictionary.\n"
   ]
  },
  {
   "cell_type": "code",
   "execution_count": 109,
   "id": "8dcac123",
   "metadata": {},
   "outputs": [
    {
     "name": "stdout",
     "output_type": "stream",
     "text": [
      "Python\n"
     ]
    }
   ],
   "source": [
    "Dict = {}\n",
    "Dict[0] = 'bigdata'\n",
    "Dict[2] = 'Python'\n",
    "Dict[3] = 0\n",
    "print(Dict[2])"
   ]
  },
  {
   "cell_type": "markdown",
   "id": "8cb4aefc",
   "metadata": {},
   "source": [
    "### Q61. Create a nested dictionary and access all the element in the inner dictionary."
   ]
  },
  {
   "cell_type": "code",
   "execution_count": 110,
   "id": "69f768f3",
   "metadata": {},
   "outputs": [
    {
     "name": "stdout",
     "output_type": "stream",
     "text": [
      "{1: 'bigdata'}\n",
      "bigdata\n",
      "For\n"
     ]
    }
   ],
   "source": [
    "# Creating a Dictionary\n",
    "Dict = {'key1': {1: 'bigdata'},\n",
    "        'key2': {'python': 'For'}}\n",
    "  \n",
    "# Accessing element using key\n",
    "print(Dict['key1'])\n",
    "print(Dict['key1'][1])\n",
    "print(Dict['key2']['python'])"
   ]
  },
  {
   "cell_type": "markdown",
   "id": "a9133e31",
   "metadata": {},
   "source": [
    "### Q62. What is the use of get() function?"
   ]
  },
  {
   "cell_type": "code",
   "execution_count": 112,
   "id": "25fa4a1c",
   "metadata": {},
   "outputs": [
    {
     "name": "stdout",
     "output_type": "stream",
     "text": [
      "Accessing a element using get:\n",
      "0\n"
     ]
    }
   ],
   "source": [
    "#get() – Returns the value of specified key\n",
    "Dict = {}\n",
    "Dict[0] = 'bigdata'\n",
    "Dict[2] = 'Python'\n",
    "Dict[3] = 0\n",
    "print(\"Accessing a element using get:\")\n",
    "print(Dict.get(3))"
   ]
  },
  {
   "cell_type": "markdown",
   "id": "d062b573",
   "metadata": {},
   "source": [
    "### Q63. What is the use of items() function?"
   ]
  },
  {
   "cell_type": "code",
   "execution_count": 114,
   "id": "cba7a900",
   "metadata": {},
   "outputs": [
    {
     "name": "stdout",
     "output_type": "stream",
     "text": [
      "dict_items([(1, 'Python'), (2, 'big'), (3, 'data'), (4, 'course')])\n"
     ]
    }
   ],
   "source": [
    "#items() – Returns a list containing a tuple for each key value pair\n",
    "dict1 = {1: \"Python\", 2: \"big\", 3: \"data\", 4: \"course\"}\n",
    "print(dict1.items())"
   ]
  },
  {
   "cell_type": "markdown",
   "id": "c40047e1",
   "metadata": {},
   "source": [
    "### Q64. What is the use of pop() function?"
   ]
  },
  {
   "cell_type": "code",
   "execution_count": 115,
   "id": "c920d543",
   "metadata": {},
   "outputs": [
    {
     "name": "stdout",
     "output_type": "stream",
     "text": [
      "{1: 'Python', 2: 'big', 3: 'data'}\n"
     ]
    }
   ],
   "source": [
    "#pop() – Remove the element with specified key\n",
    "dict1 = {1: \"Python\", 2: \"big\", 3: \"data\", 4: \"course\"}\n",
    "dict1.pop(4)\n",
    "print(dict1)"
   ]
  },
  {
   "cell_type": "markdown",
   "id": "d1c4af04",
   "metadata": {},
   "source": [
    "### Q65. What is the use of popitems() function?"
   ]
  },
  {
   "cell_type": "code",
   "execution_count": 117,
   "id": "dc92bf16",
   "metadata": {},
   "outputs": [
    {
     "name": "stdout",
     "output_type": "stream",
     "text": [
      "{1: 'new', 2: 'big', 3: 'data'}\n"
     ]
    }
   ],
   "source": [
    "#popitem() – Removes the last inserted key-value pair\n",
    "dict1 = {1: \"new\", 2: \"big\", 3: \"data\", 4: \"course\"}\n",
    "dict1.popitem()\n",
    "print(dict1)"
   ]
  },
  {
   "cell_type": "markdown",
   "id": "439c52f7",
   "metadata": {},
   "source": [
    "### Q66. What is the use of keys() function?"
   ]
  },
  {
   "cell_type": "code",
   "execution_count": 118,
   "id": "48b02d77",
   "metadata": {},
   "outputs": [
    {
     "name": "stdout",
     "output_type": "stream",
     "text": [
      "dict_keys([1, 2, 3, 4])\n"
     ]
    }
   ],
   "source": [
    "#keys() – Returns a list containing dictionary’s keys\n",
    "dict1 = {1: \"new\", 2: \"big\", 3: \"data\", 4: \"course\"}\n",
    "print(dict1.keys())"
   ]
  },
  {
   "cell_type": "markdown",
   "id": "3483b40c",
   "metadata": {},
   "source": [
    "### Q67. What is the use of values() function?"
   ]
  },
  {
   "cell_type": "code",
   "execution_count": 119,
   "id": "7fd31744",
   "metadata": {},
   "outputs": [
    {
     "name": "stdout",
     "output_type": "stream",
     "text": [
      "dict_values(['new', 'big', 'data', 'course'])\n"
     ]
    }
   ],
   "source": [
    "#values() – Returns a list of all the values of dictionary\n",
    "dict1 = {1: \"new\", 2: \"big\", 3: \"data\", 4: \"course\"}\n",
    "print(dict1.values())"
   ]
  },
  {
   "cell_type": "markdown",
   "id": "b51b89aa",
   "metadata": {},
   "source": [
    "### Q68. What are loops in Python?"
   ]
  },
  {
   "cell_type": "markdown",
   "id": "520268b4",
   "metadata": {},
   "source": [
    "loops are a sequence of instructions that does a specific set of instructions or tasks based on some conditions and continue the tasks until it reaches certain conditions."
   ]
  },
  {
   "cell_type": "markdown",
   "id": "d6f79be1",
   "metadata": {},
   "source": [
    "### Q69. How many type of loop are there in Python?"
   ]
  },
  {
   "cell_type": "markdown",
   "id": "7a5a969b",
   "metadata": {},
   "source": [
    "there are 3 types of loop in python\n",
    "\n",
    "1.while loop\n",
    "\n",
    "2.for loop\n",
    "\n",
    "3.do-while loop"
   ]
  },
  {
   "cell_type": "markdown",
   "id": "e040ff82",
   "metadata": {},
   "source": [
    "### Q70. What is the difference between for and while loops?"
   ]
  },
  {
   "cell_type": "markdown",
   "id": "ff817cdd",
   "metadata": {},
   "source": [
    "A for loop in Python is really a for...each loop. It reads \"for each X in Y\" and gives you access to X to read or change it. \n",
    "\n",
    "A while loop reads \"while X is True\" and is by its nature infinite: it only stops executing when the state changes in a predetermined way."
   ]
  },
  {
   "cell_type": "markdown",
   "id": "9beb8718",
   "metadata": {},
   "source": [
    "### Q71. What is the use of continue statement?"
   ]
  },
  {
   "cell_type": "markdown",
   "id": "bf449ac6",
   "metadata": {},
   "source": [
    "Python Continue Statement skips the execution of the program block from after the continue statement and forces the control to start the next iteration"
   ]
  },
  {
   "cell_type": "code",
   "execution_count": 121,
   "id": "28472254",
   "metadata": {},
   "outputs": [
    {
     "name": "stdout",
     "output_type": "stream",
     "text": [
      "P\n",
      "Y\n",
      "T\n",
      "H\n",
      "N\n"
     ]
    }
   ],
   "source": [
    "for var in \"PYTHON\":\n",
    "    if var == \"O\":\n",
    "        continue\n",
    "    print(var)"
   ]
  },
  {
   "cell_type": "markdown",
   "id": "9f078aa4",
   "metadata": {},
   "source": [
    "### Q72. What is the use of break statement?"
   ]
  },
  {
   "cell_type": "code",
   "execution_count": 126,
   "id": "c9796c68",
   "metadata": {},
   "outputs": [
    {
     "name": "stdout",
     "output_type": "stream",
     "text": [
      "0 1 2 "
     ]
    }
   ],
   "source": [
    "#Python break is used to terminate the execution of the loop. \n",
    "for i in range(10):\n",
    "    print(i,end=\" \")\n",
    "    if i == 2:\n",
    "        break"
   ]
  },
  {
   "cell_type": "markdown",
   "id": "c15530c6",
   "metadata": {},
   "source": [
    "### Q73. What is the use of pass statement?"
   ]
  },
  {
   "cell_type": "markdown",
   "id": "251fa29d",
   "metadata": {},
   "source": [
    "The pass statement is a null statement. But the difference between pass and comment is that comment is ignored by the interpreter whereas pass is not ignored. "
   ]
  },
  {
   "cell_type": "markdown",
   "id": "027ad97b",
   "metadata": {},
   "source": [
    "### Q74. What is the use of range() function?"
   ]
  },
  {
   "cell_type": "markdown",
   "id": "6ae309b0",
   "metadata": {},
   "source": [
    "The Python range() function returns a sequence of numbers, in a given range. The most common use of it is to iterate sequence on a sequence of numbers using Python loops"
   ]
  },
  {
   "cell_type": "code",
   "execution_count": 127,
   "id": "0c6ebcc3",
   "metadata": {},
   "outputs": [
    {
     "name": "stdout",
     "output_type": "stream",
     "text": [
      "0 1 2 3 4 \n"
     ]
    }
   ],
   "source": [
    "for i in range(5):\n",
    "    print(i, end=\" \")\n",
    "print()"
   ]
  },
  {
   "cell_type": "markdown",
   "id": "c875ec8e",
   "metadata": {},
   "source": [
    "### Q75. How can you loop over a dictionary?"
   ]
  },
  {
   "cell_type": "code",
   "execution_count": 139,
   "id": "a2e6600c",
   "metadata": {},
   "outputs": [
    {
     "name": "stdout",
     "output_type": "stream",
     "text": [
      "output:\n",
      "\n",
      "1 : big\n",
      "2 : data\n",
      "3 : python\n",
      "4 : assignment\n",
      "other way to access \n",
      "1 -> big\n",
      "2 -> data\n",
      "3 -> python\n",
      "4 -> assignment\n"
     ]
    }
   ],
   "source": [
    "dict = {1: 'big',2: 'data',3: 'python',4: 'assignment'} \n",
    "print('output:\\n') \n",
    "# Iterating over values\n",
    "for key, value in dict.items():\n",
    "    print(key,\":\",value)\n",
    "print(\"another way to access \")\n",
    "for i in dict:\n",
    "    print(i, '->', dict[i])\n"
   ]
  },
  {
   "cell_type": "markdown",
   "id": "309d3f79",
   "metadata": {},
   "source": [
    "### Q76. Write a Python program to find the factorial of a given number.\n"
   ]
  },
  {
   "cell_type": "code",
   "execution_count": 145,
   "id": "f8c88b90",
   "metadata": {},
   "outputs": [
    {
     "name": "stdout",
     "output_type": "stream",
     "text": [
      "enter a number:8\n",
      "40320\n"
     ]
    }
   ],
   "source": [
    "x=int(input(\"enter a number:\"))\n",
    "def factorial(x):\n",
    "    if x==0:\n",
    "        return 1\n",
    "    return x*factorial(x-1)\n",
    "result=factorial(x) \n",
    "print(result)"
   ]
  },
  {
   "cell_type": "markdown",
   "id": "b8f709b1",
   "metadata": {},
   "source": [
    "### Q77. Write a Python program to calculate the simple interest. Formula to calculate simple interest is SI = (P*R*T)/100"
   ]
  },
  {
   "cell_type": "code",
   "execution_count": 1,
   "id": "e11a0f6f",
   "metadata": {},
   "outputs": [
    {
     "name": "stdout",
     "output_type": "stream",
     "text": [
      "The principal is 8\n",
      "The time period is 4\n",
      "The rate of interest is 6\n",
      "The Simple Interest is 1.92\n"
     ]
    },
    {
     "data": {
      "text/plain": [
       "1.92"
      ]
     },
     "execution_count": 1,
     "metadata": {},
     "output_type": "execute_result"
    }
   ],
   "source": [
    "def simple_interest(p,t,r):\n",
    "    print('The principal is', p)\n",
    "    print('The time period is', t)\n",
    "    print('The rate of interest is',r)\n",
    "     \n",
    "    si = (p * t * r)/100\n",
    "     \n",
    "    print('The Simple Interest is', si)\n",
    "    return si\n",
    "     \n",
    "simple_interest(8, 4, 6)"
   ]
  },
  {
   "cell_type": "markdown",
   "id": "79f5c195",
   "metadata": {},
   "source": [
    "### Q78. Write a Python program to calculate the compound interest. Formula of compound interest is A = P(1+ R/100)^t"
   ]
  },
  {
   "cell_type": "code",
   "execution_count": 12,
   "id": "37df210f",
   "metadata": {},
   "outputs": [
    {
     "name": "stdout",
     "output_type": "stream",
     "text": [
      "Compound interest is 7438.7419346540555\n"
     ]
    }
   ],
   "source": [
    "def compound_interest(principle, rate, time):\n",
    " \n",
    "    # Calculates compound interest\n",
    "    Amount = principle * (pow((1 + rate / 100), time))\n",
    "    CI = Amount - principle\n",
    "    print(\"Compound interest is\", CI)\n",
    "compound_interest(20100, 6.5, 5)"
   ]
  },
  {
   "cell_type": "markdown",
   "id": "924bf298",
   "metadata": {},
   "source": [
    "### Q79. Write a Python program to check if a number is prime or not."
   ]
  },
  {
   "cell_type": "code",
   "execution_count": 11,
   "id": "d8e1fc1a",
   "metadata": {},
   "outputs": [
    {
     "name": "stdout",
     "output_type": "stream",
     "text": [
      "enter a number:3\n",
      "prime\n"
     ]
    }
   ],
   "source": [
    "x=int(input(\"enter a number:\"))\n",
    "for i in range(2,x):\n",
    "    if x%i==0:\n",
    "        print(\"not prime\")\n",
    "        break\n",
    "else:\n",
    "    print(\"prime\")"
   ]
  },
  {
   "cell_type": "markdown",
   "id": "49d18da9",
   "metadata": {},
   "source": [
    "### Q80. Write a Python program to check Armstrong Number."
   ]
  },
  {
   "cell_type": "code",
   "execution_count": 20,
   "id": "5ddfc44d",
   "metadata": {},
   "outputs": [
    {
     "name": "stdout",
     "output_type": "stream",
     "text": [
      "enter a value153\n",
      "The given number 153 is armstrong number\n"
     ]
    }
   ],
   "source": [
    "n=int(input(\"enter a value\"))\n",
    "s=n\n",
    "b = len(str(n))\n",
    "sum1 = 0\n",
    "while n != 0:\n",
    "    r = n % 10\n",
    "    sum1 = sum1+(r**b)\n",
    "    n = n//10\n",
    "if s == sum1:\n",
    "    print(\"The given number\", s, \"is armstrong number\")\n",
    "else:\n",
    "    print(\"The given number\", s, \"is not armstrong number\")\n",
    " "
   ]
  },
  {
   "cell_type": "markdown",
   "id": "dd7d7c4b",
   "metadata": {},
   "source": [
    "### Q81. Write a Python program to find the n-th Fibonacci Number."
   ]
  },
  {
   "cell_type": "code",
   "execution_count": 28,
   "id": "e44b876a",
   "metadata": {},
   "outputs": [],
   "source": [
    "#0,1,1,2,3,5,8...\n",
    "#x=int(input(\"enter nth number\"))#7\n",
    "#a=0\n",
    "#b=1\n",
    "#print(b)\n",
    "#for i in range(2,x+1):\n",
    "#    c=a+b\n",
    "#    a=b\n",
    "#    b=c\n",
    "# print(c)"
   ]
  },
  {
   "cell_type": "code",
   "execution_count": 41,
   "id": "f61282e9",
   "metadata": {},
   "outputs": [
    {
     "name": "stdout",
     "output_type": "stream",
     "text": [
      "enter nth number:8\n",
      "13\n"
     ]
    }
   ],
   "source": [
    "def Fibonacci(n):\n",
    "    if n<= 0:\n",
    "        print(\"not available\")\n",
    "    # First Fibonacci number is 0\n",
    "    elif n == 1:\n",
    "        return 0\n",
    "    # Second Fibonacci number is 1\n",
    "    elif n == 2:\n",
    "        return 1\n",
    "    else:\n",
    "        return Fibonacci(n-1)+Fibonacci(n-2)\n",
    "x=int(input(\"enter nth number:\"))\n",
    "print(Fibonacci(x))"
   ]
  },
  {
   "cell_type": "markdown",
   "id": "ec3fedcf",
   "metadata": {},
   "source": [
    "### Q82. Write a Python program to interchange the first and last element in a list."
   ]
  },
  {
   "cell_type": "code",
   "execution_count": 42,
   "id": "55e3f08e",
   "metadata": {},
   "outputs": [
    {
     "name": "stdout",
     "output_type": "stream",
     "text": [
      "[20, 30, 40, 50, 10]\n"
     ]
    }
   ],
   "source": [
    "def swap(List):\n",
    "    size = len(List)\n",
    "     \n",
    "    # Swapping\n",
    "    temp = List[0]\n",
    "    List[0] = List[size - 1]\n",
    "    List[size - 1] = temp\n",
    "    return List\n",
    "List = [10, 30, 40, 50, 20]\n",
    "print(swap(List))"
   ]
  },
  {
   "cell_type": "markdown",
   "id": "e199ae58",
   "metadata": {},
   "source": [
    "### Q83. Write a Python program to swap two elements in a list."
   ]
  },
  {
   "cell_type": "code",
   "execution_count": 44,
   "id": "20320f16",
   "metadata": {},
   "outputs": [
    {
     "name": "stdout",
     "output_type": "stream",
     "text": [
      "[19, 65, 23, 90]\n"
     ]
    }
   ],
   "source": [
    "def swapPositions(list, pos1, pos2):\n",
    "     \n",
    "    list[pos1], list[pos2] = list[pos2], list[pos1]\n",
    "    return list\n",
    "List = [23, 65, 19, 90]\n",
    "pos1, pos2  = 1, 3\n",
    " \n",
    "print(swapPositions(List, pos1-1, pos2-1))"
   ]
  },
  {
   "cell_type": "markdown",
   "id": "ded21a8d",
   "metadata": {},
   "source": [
    "### Q84. Write a Python program to find N largest element from a list.\n"
   ]
  },
  {
   "cell_type": "code",
   "execution_count": 46,
   "id": "cbd7fac3",
   "metadata": {},
   "outputs": [
    {
     "name": "stdout",
     "output_type": "stream",
     "text": [
      "[89, 78]\n"
     ]
    }
   ],
   "source": [
    "# Function returns N largest elements\n",
    "def Nmaxelements(list, N):\n",
    "    final_list = []\n",
    " \n",
    "    for i in range(0, N):\n",
    "        max1 = 0\n",
    "         \n",
    "        for j in range(len(list)):    \n",
    "            if list[j] > max1:\n",
    "                max1 = list[j];\n",
    "                 \n",
    "        list.remove(max1);\n",
    "        final_list.append(max1)\n",
    "         \n",
    "    print(final_list)\n",
    "\n",
    "list = [20,56,78,6,2,7,89,22,23]\n",
    "N = 2\n",
    "Nmaxelements(list, N)"
   ]
  },
  {
   "cell_type": "markdown",
   "id": "35fef668",
   "metadata": {},
   "source": [
    "### Q85. Write a Python program to find cumulative sum of a list."
   ]
  },
  {
   "cell_type": "code",
   "execution_count": 47,
   "id": "525f2262",
   "metadata": {},
   "outputs": [
    {
     "name": "stdout",
     "output_type": "stream",
     "text": [
      "[10, 30, 60, 100, 150]\n"
     ]
    }
   ],
   "source": [
    "list=[10,20,30,40,50]\n",
    "new_list=[]\n",
    "j=0\n",
    "for i in range(0,len(list)):\n",
    "    j=j+list[i]\n",
    "    new_list.append(j)\n",
    "     \n",
    "print(new_list)"
   ]
  },
  {
   "cell_type": "markdown",
   "id": "79ed5a18",
   "metadata": {},
   "source": [
    "### Q86. Write a Python program to check if a string is palindrome or not."
   ]
  },
  {
   "cell_type": "code",
   "execution_count": 49,
   "id": "87df53cb",
   "metadata": {},
   "outputs": [
    {
     "name": "stdout",
     "output_type": "stream",
     "text": [
      "Enter string:malayalam\n",
      "The string is a palindrome\n"
     ]
    }
   ],
   "source": [
    "string=input(\"Enter string:\")\n",
    "if(string==string[::-1]):\n",
    "   print(\"The string is a palindrome\")\n",
    "else:\n",
    "   print(\"The string isn't a palindrome\")"
   ]
  },
  {
   "cell_type": "markdown",
   "id": "303b0d93",
   "metadata": {},
   "source": [
    "### Q87. Write a Python program to remove i'th element from a string."
   ]
  },
  {
   "cell_type": "code",
   "execution_count": 51,
   "id": "766757bb",
   "metadata": {},
   "outputs": [
    {
     "name": "stdout",
     "output_type": "stream",
     "text": [
      "Enter the string : priyanka\n",
      "Enter the index of character to be removed : 3\n",
      "String formed by removing i'th character : prianka\n"
     ]
    }
   ],
   "source": [
    "myStr =  input('Enter the string : ')\n",
    "i = int(input('Enter the index of character to be removed : '))\n",
    "\n",
    "# removing character at the specified index\n",
    "resStr = myStr.replace(myStr[i], \"\", 1)\n",
    "print (\"String formed by removing i'th character : \" + resStr)"
   ]
  },
  {
   "cell_type": "markdown",
   "id": "15a57d9e",
   "metadata": {},
   "source": [
    "### Q88. Write a Python program to check if a substring is present in a given string."
   ]
  },
  {
   "cell_type": "code",
   "execution_count": 53,
   "id": "25152c3f",
   "metadata": {},
   "outputs": [
    {
     "name": "stdout",
     "output_type": "stream",
     "text": [
      "Enter the String: python big data\n",
      "\n",
      "Enter the Substring: data\n",
      "\n",
      "Yes,The substring is available in the string.\n"
     ]
    }
   ],
   "source": [
    "print(\"Enter the String: \", end=\"\")\n",
    "MyStr = input()\n",
    "\n",
    "print(\"\\nEnter the Substring: \", end=\"\")\n",
    "MySubStr = input()\n",
    "\n",
    "if MySubStr in MyStr:\n",
    "    print(\"\\nYes,The substring is available in the string.\")\n",
    "else:\n",
    "    print(\"\\nNo,The substring is not available in the string.\")\n",
    "    "
   ]
  },
  {
   "cell_type": "markdown",
   "id": "63e6c333",
   "metadata": {},
   "source": [
    "### Q89. Write a Python program to find words which are greater than given length k."
   ]
  },
  {
   "cell_type": "code",
   "execution_count": 54,
   "id": "9411ac8d",
   "metadata": {},
   "outputs": [
    {
     "name": "stdout",
     "output_type": "stream",
     "text": [
      "['this', 'learn', 'python']\n"
     ]
    }
   ],
   "source": [
    "# function find string greater than length k\n",
    "def string_k(k, str):\n",
    "    string = []    \n",
    "    # split the string where space is comes\n",
    "    text = str.split(\" \") \n",
    "    # iterate the loop till every substring\n",
    "    for x in text:\n",
    "        # if length of current sub string\n",
    "        # is greater than k then\n",
    "        if len(x) > k: \n",
    "            # append this sub string in\n",
    "            # string list\n",
    "            string.append(x)\n",
    "             \n",
    "     # return string list\n",
    "    return string   \n",
    "k = 3\n",
    "str =\"this is to learn python\"\n",
    "print(string_k(k, str))"
   ]
  },
  {
   "cell_type": "markdown",
   "id": "160c108b",
   "metadata": {},
   "source": [
    "### Q90. Write a Python program to extract unquire dictionary values."
   ]
  },
  {
   "cell_type": "code",
   "execution_count": 76,
   "id": "7aed1678",
   "metadata": {},
   "outputs": [
    {
     "name": "stdout",
     "output_type": "stream",
     "text": [
      "The original dictionary is :  {'python': [5, 6, 7, 8], 'data': [10, 11, 7, 5], 'ai': [6, 12, 10, 8], 'course': [1, 2, 5]}\n",
      "The unique values list is :  [1, 2, 5, 6, 7, 8, 10, 11, 12]\n"
     ]
    }
   ],
   "source": [
    "# initializing dictionary\n",
    "test_dict = {'python' : [5, 6, 7, 8],\n",
    "            'data' : [10, 11, 7, 5],\n",
    "            'ai' : [6, 12, 10, 8],\n",
    "            'course' : [1, 2, 5]}\n",
    " \n",
    "# printing original dictionary\n",
    "print(\"The original dictionary is : \",test_dict)\n",
    "p=test_dict.values()\n",
    "\n",
    "x=p\n",
    "y=[]\n",
    "res=[]\n",
    "for i in x:\n",
    "    y.extend(i)\n",
    "for i in y:\n",
    "    if i not in res:\n",
    "        res.append(i)\n",
    "res.sort()\n",
    " \n",
    "# printing result\n",
    "print(\"The unique values list is : \",res)"
   ]
  },
  {
   "cell_type": "markdown",
   "id": "0a431a88",
   "metadata": {},
   "source": [
    "### Q91. Write a Python program to merge two dictionary."
   ]
  },
  {
   "cell_type": "code",
   "execution_count": 77,
   "id": "78d8bf03",
   "metadata": {},
   "outputs": [
    {
     "name": "stdout",
     "output_type": "stream",
     "text": [
      "None\n",
      "{'d': 8, 'c': 7, 'a': 10, 'b': 9}\n"
     ]
    }
   ],
   "source": [
    "def Merge(dict1, dict2):\n",
    "    return(dict2.update(dict1))\n",
    "\n",
    "dict1 = {'a': 10, 'b': 9}\n",
    "dict2 = {'d': 8, 'c': 7}\n",
    " \n",
    "# This returns None\n",
    "print(Merge(dict1, dict2))\n",
    " \n",
    "# changes made in dict2\n",
    "print(dict2)"
   ]
  },
  {
   "cell_type": "code",
   "execution_count": 78,
   "id": "997bb3e7",
   "metadata": {},
   "outputs": [
    {
     "name": "stdout",
     "output_type": "stream",
     "text": [
      "{'p': 10, 'q': 8, 'a': 32, 'b': 4}\n"
     ]
    }
   ],
   "source": [
    "def Merge(dict1, dict2):\n",
    "    res = {**dict1, **dict2}\n",
    "    return res\n",
    "dict1 = {'p': 10, 'q': 8}\n",
    "dict2 = {'a': 32, 'b': 4}\n",
    "dict3 = Merge(dict1, dict2)\n",
    "print(dict3)"
   ]
  },
  {
   "cell_type": "markdown",
   "id": "4d4a7c8e",
   "metadata": {},
   "source": [
    "### Q92. Write a Python program to convert a list of tuples into dictionary.\n",
    "```\n",
    "Input : [('Sachin', 10), ('MSD', 7), ('Kohli', 18), ('Rohit', 45)]\n",
    "Output : {'Sachin': 10, 'MSD': 7, 'Kohli': 18, 'Rohit': 45}\n",
    "```"
   ]
  },
  {
   "cell_type": "code",
   "execution_count": 81,
   "id": "382a867f",
   "metadata": {},
   "outputs": [
    {
     "name": "stdout",
     "output_type": "stream",
     "text": [
      "{'Sachin': [10], 'MSD': [7], 'Kohli': [18], 'Rohit': [45]}\n"
     ]
    }
   ],
   "source": [
    "def Convert(ip, di):\n",
    "    for a, b in ip:\n",
    "        di.setdefault(a, []).append(b)\n",
    "    return di\n",
    "\n",
    "Input = [('Sachin', 10), ('MSD', 7), ('Kohli', 18), ('Rohit', 45)]\n",
    "dictionary = {}\n",
    "print (Convert(Input, dictionary))"
   ]
  },
  {
   "cell_type": "markdown",
   "id": "b1fde5e8",
   "metadata": {},
   "source": [
    "### Q93. Write a Python program to create a list of tuples from given list having number and its cube in each tuple.\n",
    "```\n",
    "Input: list = [9, 5, 6]\n",
    "Output: [(9, 729), (5, 125), (6, 216)]\n",
    "```"
   ]
  },
  {
   "cell_type": "code",
   "execution_count": 83,
   "id": "54e41b15",
   "metadata": {},
   "outputs": [
    {
     "name": "stdout",
     "output_type": "stream",
     "text": [
      "[(9, 729), (5, 125), (6, 216)]\n"
     ]
    }
   ],
   "source": [
    "list = [9, 5, 6]\n",
    " \n",
    "# using list comprehension to iterate each\n",
    "# values in list and create a tuple as specified\n",
    "res = [(val, pow(val, 3)) for val in list]\n",
    " \n",
    "print(res)"
   ]
  },
  {
   "cell_type": "code",
   "execution_count": 84,
   "id": "d0e88713",
   "metadata": {},
   "outputs": [
    {
     "name": "stdout",
     "output_type": "stream",
     "text": [
      "[(9, 729), (5, 125), (6, 216)]\n"
     ]
    }
   ],
   "source": [
    "#other way\n",
    "list = [9, 5, 6]\n",
    "\n",
    "# values in list and create a tuple as specified\n",
    "res = [(val, val**3) for val in list]\n",
    " \n",
    "# print the result\n",
    "print(res)"
   ]
  },
  {
   "cell_type": "markdown",
   "id": "4bb1ade9",
   "metadata": {},
   "source": [
    "### Q94. Write a Python program to get all combinations of 2 tuples.\n",
    "```\n",
    "Input : test_tuple1 = (7, 2), test_tuple2 = (7, 8)\n",
    "Output : [(7, 7), (7, 8), (2, 7), (2, 8), (7, 7), (7, 2), (8, 7), (8, 2)]\n",
    "```"
   ]
  },
  {
   "cell_type": "code",
   "execution_count": 86,
   "id": "3ff0b7c7",
   "metadata": {},
   "outputs": [
    {
     "name": "stdout",
     "output_type": "stream",
     "text": [
      "The original tuple 1 :  (7, 2)\n",
      "The original tuple 2 :  (7, 8)\n",
      "The filtered tuple :  [(7, 7), (7, 8), (2, 7), (2, 8), (7, 7), (7, 2), (8, 7), (8, 2)]\n"
     ]
    }
   ],
   "source": [
    "test_tuple1 = (7, 2)\n",
    "test_tuple2 = (7, 8)\n",
    "  \n",
    "# printing original tuples\n",
    "print(\"The original tuple 1 : \" ,test_tuple1)\n",
    "print(\"The original tuple 2 : \" ,test_tuple2)\n",
    "  \n",
    "# All pair combinations of 2 tuples\n",
    "# Using list comprehension\n",
    "res =  [(a, b) for a in test_tuple1 for b in test_tuple2]\n",
    "res = res +  [(a, b) for a in test_tuple2 for b in test_tuple1]\n",
    "  \n",
    "# printing result \n",
    "print(\"The filtered tuple : \" ,res)"
   ]
  },
  {
   "cell_type": "markdown",
   "id": "c1d1c8ee",
   "metadata": {},
   "source": [
    "### Q95. Write a Python program to sort a list of tuples by second item.\n",
    "```\n",
    "Input : [('for', 24), ('Geeks', 8), ('Geeks', 30)] \n",
    "Output : [('Geeks', 8), ('for', 24), ('Geeks', 30)]\n",
    "```"
   ]
  },
  {
   "cell_type": "code",
   "execution_count": 87,
   "id": "4cf9b621",
   "metadata": {},
   "outputs": [
    {
     "name": "stdout",
     "output_type": "stream",
     "text": [
      "[('Geeks', 8), ('for', 24), ('Geeks', 30)]\n"
     ]
    }
   ],
   "source": [
    "\n",
    "def Sort_Tuple(tup):\n",
    " \n",
    "    # reverse = None (Sorts in Ascending order)\n",
    "    # key is set to sort using second element of\n",
    "    # sublist lambda has been used\n",
    "    tup.sort(key = lambda x: x[1])\n",
    "    return tup\n",
    " \n",
    "\n",
    "tup =[('for', 24), ('Geeks', 8), ('Geeks', 30)] \n",
    " \n",
    "# printing the sorted list of tuples\n",
    "print(Sort_Tuple(tup))"
   ]
  },
  {
   "cell_type": "markdown",
   "id": "adbc06e7",
   "metadata": {},
   "source": [
    "### Q96. Write a python program to print below pattern.\n",
    "```\n",
    "* \n",
    "* * \n",
    "* * * \n",
    "* * * * \n",
    "* * * * * \n",
    "```"
   ]
  },
  {
   "cell_type": "code",
   "execution_count": 89,
   "id": "ced291ee",
   "metadata": {},
   "outputs": [
    {
     "name": "stdout",
     "output_type": "stream",
     "text": [
      "* \r\n",
      "* * \r\n",
      "* * * \r\n",
      "* * * * \r\n",
      "* * * * * \r\n"
     ]
    }
   ],
   "source": [
    "def pyramid(n):\n",
    "    for i in range(0, n):\n",
    "        for j in range(0, i+1):\n",
    "            print(\"* \",end=\"\")\n",
    "      \n",
    "        # ending line after each row\n",
    "        print(\"\\r\")\n",
    "n = 5\n",
    "pyramid(n)"
   ]
  },
  {
   "cell_type": "markdown",
   "id": "5209052e",
   "metadata": {},
   "source": [
    "### Q97. Write a python program to print below pattern.\n",
    "```\n",
    "    *\n",
    "   **\n",
    "  ***\n",
    " ****\n",
    "*****\n",
    "```"
   ]
  },
  {
   "cell_type": "code",
   "execution_count": 91,
   "id": "c037744a",
   "metadata": {},
   "outputs": [
    {
     "name": "stdout",
     "output_type": "stream",
     "text": [
      "        * \r\n",
      "      * * \r\n",
      "    * * * \r\n",
      "  * * * * \r\n",
      "* * * * * \r\n"
     ]
    }
   ],
   "source": [
    "def pyramid(n):\n",
    "    k = 2*n - 2\n",
    "    for i in range(0, n):\n",
    "        for j in range(0, k):\n",
    "            print(end=\" \")\n",
    "        # decrementing k after each loop\n",
    "        k = k - 2\n",
    "        for j in range(0, i+1):\n",
    "            print(\"* \", end=\"\")\n",
    "        # ending line after each row\n",
    "        print(\"\\r\")\n",
    " \n",
    "n = 5\n",
    "pyramid(n)"
   ]
  },
  {
   "cell_type": "markdown",
   "id": "206db6c7",
   "metadata": {},
   "source": [
    "### Q98. Write a python program to print below pattern.\n",
    "```\n",
    "    * \n",
    "   * * \n",
    "  * * * \n",
    " * * * * \n",
    "* * * * * \n",
    "```"
   ]
  },
  {
   "cell_type": "code",
   "execution_count": 92,
   "id": "681ef137",
   "metadata": {},
   "outputs": [
    {
     "name": "stdout",
     "output_type": "stream",
     "text": [
      "    * \r\n",
      "   * * \r\n",
      "  * * * \r\n",
      " * * * * \r\n",
      "* * * * * \r\n"
     ]
    }
   ],
   "source": [
    "def triangle(n):\n",
    "    k = n - 1\n",
    "    for i in range(0, n):\n",
    "        for j in range(0, k):\n",
    "            print(end=\" \")\n",
    "        # decrementing k after each loop\n",
    "        k = k - 1\n",
    "        for j in range(0, i+1):\n",
    "            # printing stars\n",
    "            print(\"* \", end=\"\")\n",
    "        # ending line after each row\n",
    "        print(\"\\r\")\n",
    " \n",
    "n = 5\n",
    "triangle(n)"
   ]
  },
  {
   "cell_type": "markdown",
   "id": "3f39ba62",
   "metadata": {},
   "source": [
    "### Q99. Write a python program to print below pattern.\n",
    "```\n",
    "1 \n",
    "1 2 \n",
    "1 2 3 \n",
    "1 2 3 4 \n",
    "1 2 3 4 5\n",
    "```"
   ]
  },
  {
   "cell_type": "code",
   "execution_count": 93,
   "id": "bb9f1664",
   "metadata": {},
   "outputs": [
    {
     "name": "stdout",
     "output_type": "stream",
     "text": [
      "1 \r\n",
      "1 2 \r\n",
      "1 2 3 \r\n",
      "1 2 3 4 \r\n",
      "1 2 3 4 5 \r\n"
     ]
    }
   ],
   "source": [
    "def numpattern(n):\n",
    "    num = 1\n",
    "    for i in range(0, n):\n",
    "        num = 1\n",
    "        for j in range(0, i+1):\n",
    "            print(num, end=\" \")\n",
    "            # incrementing at each column\n",
    "            num = num + 1\n",
    "        # ending line after each row\n",
    "        print(\"\\r\")\n",
    "n = 5\n",
    "numpattern(n)"
   ]
  },
  {
   "cell_type": "markdown",
   "id": "6765af6e",
   "metadata": {},
   "source": [
    "### Q100. Write a python program to print below pattern.\n",
    "```\n",
    "A \n",
    "B B \n",
    "C C C \n",
    "D D D D \n",
    "E E E E E \n",
    "```"
   ]
  },
  {
   "cell_type": "code",
   "execution_count": 95,
   "id": "8d428dc2",
   "metadata": {},
   "outputs": [
    {
     "name": "stdout",
     "output_type": "stream",
     "text": [
      "A \r\n",
      "B B \r\n",
      "C C C \r\n",
      "D D D D \r\n",
      "E E E E E \r\n"
     ]
    }
   ],
   "source": [
    "def alphapat(n): \n",
    "    # initializing value corresponding to 'A'\n",
    "    # ASCII value\n",
    "    num = 65\n",
    "    # outer loop to handle number of rows, 5 in this case\n",
    "    for i in range(0, n):\n",
    "        for j in range(0, i+1):\n",
    "            # explicitly converting to char\n",
    "            ch = chr(num)\n",
    "            # printing char value\n",
    "            print(ch, end=\" \")\n",
    "        num = num + 1\n",
    "        print(\"\\r\")\n",
    "n = 5\n",
    "alphapat(n)"
   ]
  },
  {
   "cell_type": "code",
   "execution_count": null,
   "id": "6b6eb232",
   "metadata": {},
   "outputs": [],
   "source": []
  }
 ],
 "metadata": {
  "kernelspec": {
   "display_name": "Python 3",
   "language": "python",
   "name": "python3"
  },
  "language_info": {
   "codemirror_mode": {
    "name": "ipython",
    "version": 3
   },
   "file_extension": ".py",
   "mimetype": "text/x-python",
   "name": "python",
   "nbconvert_exporter": "python",
   "pygments_lexer": "ipython3",
   "version": "3.8.8"
  }
 },
 "nbformat": 4,
 "nbformat_minor": 5
}
