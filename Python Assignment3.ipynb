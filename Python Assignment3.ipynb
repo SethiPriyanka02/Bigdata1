{
 "cells": [
  {
   "cell_type": "markdown",
   "id": "0979f389",
   "metadata": {},
   "source": [
    "### Q1. What is the purpose of Python's OOP?"
   ]
  },
  {
   "cell_type": "markdown",
   "id": "c81eb7bf",
   "metadata": {},
   "source": [
    "In Python, object-oriented Programming (OOPs) is a programming concept that uses objects and classes in programming. It aims to implement real-world entities like inheritance, polymorphisms, encapsulation, etc. in the programming. The main concept of OOPs is to bind the data and the functions that work on that together as a single unit so that no other part of the code can access this data."
   ]
  },
  {
   "cell_type": "markdown",
   "id": "bbcc10c6",
   "metadata": {},
   "source": [
    "### Q2. Where does an inheritance search look for an attribute?"
   ]
  },
  {
   "cell_type": "markdown",
   "id": "bb1e8439",
   "metadata": {},
   "source": [
    "In Python, inheritance happens when an object is qualified, and involves searching an attribute definition tree (one or more namespaces). Every time you use an expression of the form object.attr where object is an instance or class object, Python searches the namespace tree at and above object, for the first attr it can find."
   ]
  },
  {
   "cell_type": "markdown",
   "id": "e2b15a89",
   "metadata": {},
   "source": [
    "### Q3. How do you distinguish between a class object and an instance object?"
   ]
  },
  {
   "cell_type": "markdown",
   "id": "e0dd7bc0",
   "metadata": {},
   "source": [
    "Object is a contiguous block of memory that stores the actual information that distinguishes this object from other objects, while an instance is a reference to an object. It is a block of memory, which points to the staring address of where the object is stored. Two instances may refer to the same object. Life spans of an object and an instance are not related. Therefore an instance could be null. Once all instances pointing to an object is removed, the object will be destroyed."
   ]
  },
  {
   "cell_type": "markdown",
   "id": "cbee27f6",
   "metadata": {},
   "source": [
    "1.Class objects support two kinds of operations: attribute references and instantiation.\n",
    "\n",
    "Attribute references use the standard syntax used for all attribute references in Python: obj.name"
   ]
  },
  {
   "cell_type": "code",
   "execution_count": 1,
   "id": "949bd85f",
   "metadata": {},
   "outputs": [],
   "source": [
    "class MyClass:\n",
    "    \"\"\"A simple example class\"\"\"\n",
    "    i = 12345\n",
    "\n",
    "    def f(self):\n",
    "        return 'hello world'\n"
   ]
  },
  {
   "cell_type": "markdown",
   "id": "1f33d3b5",
   "metadata": {},
   "source": [
    "then MyClass.i and MyClass.f are valid attribute references, returning an integer and a function object, respectively. Class attributes can also be assigned to, so you can change the value of MyClass.i by assignment.\n",
    "\n",
    "When a class defines an __init__() method, class instantiation automatically invokes __init__() for the newly created class instance. So in this example, a new, initialized instance can be obtained by:\n",
    "x = MyClass()"
   ]
  },
  {
   "cell_type": "markdown",
   "id": "98113e3c",
   "metadata": {},
   "source": [
    "2.The only operations understood by instance objects are attribute references. There are two kinds of valid attribute names: data attributes and methods.data attributes correspond to “instance variables”.\n",
    "Valid method names of an instance object depend on its class. By definition, all attributes of a class that are function objects define corresponding methods of its instances."
   ]
  },
  {
   "cell_type": "markdown",
   "id": "0680f0ea",
   "metadata": {},
   "source": [
    "### Q4. What makes the first argument in a class’s method function special?"
   ]
  },
  {
   "cell_type": "markdown",
   "id": "86301738",
   "metadata": {},
   "source": [
    "The first argument in a class's method function is special because it is a reference to the instance object on which the method is being called. This argument is usually named ' self' , but you can use any valid Python identifier. The 'self' argument is used to access the attributes and methods of the instance object from within the method. This allows you to define methods that can operate on the instance object's data and behavior."
   ]
  },
  {
   "cell_type": "markdown",
   "id": "f99bee6f",
   "metadata": {},
   "source": [
    "### Q5. What is the purpose of the init method?"
   ]
  },
  {
   "cell_type": "markdown",
   "id": "93324d8c",
   "metadata": {},
   "source": [
    "Every time an object is created from a class, the __init__function is called. The __init__ method only allows the class to initialize the object's attributes. It is only used within classes.\n",
    "\n",
    "Python uses the __init__ method as a constructor to initialize the data members when an object is created for the class. This type of function is also known as the constructor function. A constructor function is a function that is called every time a new class object is created."
   ]
  },
  {
   "cell_type": "markdown",
   "id": "29a41ff1",
   "metadata": {},
   "source": [
    "### Q6. What is the process for creating a class instance?"
   ]
  },
  {
   "cell_type": "markdown",
   "id": "797a84f5",
   "metadata": {},
   "source": [
    "Python’s instantiation process starts with a call to the class constructor, which triggers the instance creator, .__new__(), to create a new empty object. The process continues with the instance initializer, .__init__(), which takes the constructor’s arguments to initialize the newly created object.\n",
    "\n",
    "1.Create a new instance of the target class:\n",
    "2.Initialize the new instance with an appropriate initial state\n",
    "To run the first step, Python classes have a special method called .__new__(), which is responsible for creating and returning a new empty object. Then another special method, .__init__(), takes the resulting object, along with the class constructor’s arguments.\n",
    "\n",
    "The .__init__() method takes the new object as its first argument, self. Then it sets any required instance attribute to a valid state using the arguments that the class constructor passed to it."
   ]
  },
  {
   "cell_type": "markdown",
   "id": "9736a91f",
   "metadata": {},
   "source": [
    "### Q7. What is the process for creating a class?"
   ]
  },
  {
   "cell_type": "markdown",
   "id": "29f87c91",
   "metadata": {},
   "source": [
    "class definitions begin with a class keyword.\n",
    "\n",
    "The first string inside the class is called docstring and has a brief description of the class. Although not mandatory, this is highly recommended.\n",
    "\n",
    "Here is a simple class definition."
   ]
  },
  {
   "cell_type": "code",
   "execution_count": 1,
   "id": "b12d56ea",
   "metadata": {},
   "outputs": [],
   "source": [
    "class MyNewClass:\n",
    "    '''This is a docstring. I have created a new class'''\n",
    "    pass"
   ]
  },
  {
   "cell_type": "markdown",
   "id": "1833ac4d",
   "metadata": {},
   "source": [
    "A class creates a new local namespace where all its attributes are defined. Attributes may be data or functions.\n",
    "\n",
    "There are also special attributes in it that begins with double underscores __. For example, __doc__ gives us the docstring of that class.\n",
    "\n",
    "As soon as we define a class, a new class object is created with the same name. This class object allows us to access the different attributes as well as to instantiate new objects of that class."
   ]
  },
  {
   "cell_type": "code",
   "execution_count": 14,
   "id": "89493ed0",
   "metadata": {},
   "outputs": [
    {
     "name": "stdout",
     "output_type": "stream",
     "text": [
      "10\n",
      "<function Person.greet at 0x0000021C9C794C10>\n",
      "Hello\n",
      "This is a person class\n"
     ]
    }
   ],
   "source": [
    "class Person:\n",
    "    \"This is a person class\"\n",
    "    age = 10\n",
    "\n",
    "    def greet(self):\n",
    "        print('Hello')\n",
    "print(Person.age)\n",
    "print(Person.greet)\n",
    "t=Person()\n",
    "t.greet()\n",
    "print(Person.__doc__)"
   ]
  },
  {
   "cell_type": "markdown",
   "id": "91ded677",
   "metadata": {},
   "source": [
    "### Q8. How would you define the superclasses of a class?\n"
   ]
  },
  {
   "cell_type": "markdown",
   "id": "7d63ea32",
   "metadata": {},
   "source": [
    "Python super() function returns objects represented in the parent’s class and is very useful in  multiple and multilevel inheritances to find which class the child class is extending first."
   ]
  },
  {
   "cell_type": "code",
   "execution_count": 5,
   "id": "ca600e10",
   "metadata": {},
   "outputs": [
    {
     "name": "stdout",
     "output_type": "stream",
     "text": [
      "The ID is: 1\n",
      "The Name is: bigdata\n"
     ]
    }
   ],
   "source": [
    "class Emp():\n",
    "    def __init__(self, id, name):\n",
    "        self.id = id\n",
    "        self.name = name\n",
    "class Freelance(Emp):\n",
    "    def __init__(self, id, name):\n",
    "        super().__init__(id, name)\n",
    "        \n",
    "new = Freelance(1, \"bigdata\" )\n",
    "print('The ID is:', new.id)\n",
    "print('The Name is:', new.name)"
   ]
  },
  {
   "cell_type": "markdown",
   "id": "24a1a082",
   "metadata": {},
   "source": [
    "### Q9. What is the relationship between classes and modules?"
   ]
  },
  {
   "cell_type": "markdown",
   "id": "ed250298",
   "metadata": {},
   "source": [
    "A class is used to define a blueprint for a given object, whereas a module is used to reuse a given piece of code inside another program.\n",
    "\n",
    "A class can have its own instance, but a module cannot be instantiated. We use the ‘class’ keyword to define a class, whereas to use modules, we use the ‘import’ keyword. We can inherit a particular class and modify it using inheritance. But while using modules, it is simply a code containing variables, functions, and classes.\n",
    "\n",
    "Modules are files present inside a package, whereas a class is used to encapsulate data and functions together inside the same unit."
   ]
  },
  {
   "cell_type": "markdown",
   "id": "007192d5",
   "metadata": {},
   "source": [
    "### Q10. How do you make instances and classes?\n"
   ]
  },
  {
   "cell_type": "markdown",
   "id": "be4e5f6b",
   "metadata": {},
   "source": [
    "Python classes are collections of variables and functions. Instances of the class can be initialized and customized to store properties, data, or use methods that belong to the class and instance."
   ]
  },
  {
   "cell_type": "code",
   "execution_count": 32,
   "id": "a051e3c6",
   "metadata": {},
   "outputs": [
    {
     "name": "stdout",
     "output_type": "stream",
     "text": [
      "1\n",
      "Jake\n",
      "4294967296\n"
     ]
    }
   ],
   "source": [
    "class Student:\n",
    "        def __init__(self, id):\n",
    "            self.id = id\n",
    "        def setData(self, value):\n",
    "            self.data = value\n",
    "        def display(self):\n",
    "            print(self.data)\n",
    "            \n",
    "s1 = Student(1)\n",
    "s1.setData(\"Jake\")       # method call, self is s1\n",
    "s2.setData(4294967296)# runs Student.setData(s2,4294967296)\n",
    "print(s1.id)\n",
    "s1.display()\n",
    "s2.display()"
   ]
  },
  {
   "cell_type": "markdown",
   "id": "f6ccf111",
   "metadata": {},
   "source": [
    "### Q11. Where and how should be class attributes created?\n"
   ]
  },
  {
   "cell_type": "markdown",
   "id": "8a64febe",
   "metadata": {},
   "source": [
    "Class attributes belong to the class itself they will be shared by all the instances. Such attributes are defined in the class body parts usually at the top, for legibility."
   ]
  },
  {
   "cell_type": "markdown",
   "id": "f2554406",
   "metadata": {},
   "source": [
    "When you access an attribute via an instance of the class, Python searches for the attribute in the instance attribute list. If the instance attribute list doesn’t have that attribute, Python continues looking up the attribute in the class attribute list. Python returns the value of the attribute as long as it finds the attribute in the instance attribute list or class attribute list.\n",
    "\n",
    "However, if you access an attribute, Python directly searches for the attribute in the class attribute list.\n",
    "\n",
    "Use class attributes for storing class contants, track data across all instances, and setting default values for all instances of the class."
   ]
  },
  {
   "cell_type": "code",
   "execution_count": 36,
   "id": "07550a32",
   "metadata": {},
   "outputs": [
    {
     "name": "stdout",
     "output_type": "stream",
     "text": [
      "20\n",
      "10\n"
     ]
    }
   ],
   "source": [
    "class Test:\n",
    "    x = 10\n",
    "\n",
    "    def __init__(self):\n",
    "        self.x = 20\n",
    "t = Test()\n",
    "print(t.x) #access the x attribute via the instance of Test class,it returns 20 which is the variable of the instance attribute.\n",
    "print(Test.x)#access the x attribute via the Test class, it returns 10 which is the value of the x class attribute.\n",
    "            "
   ]
  },
  {
   "cell_type": "markdown",
   "id": "8d47f1a9",
   "metadata": {},
   "source": [
    "### Q12. Where and how are instance attributes created?"
   ]
  },
  {
   "cell_type": "markdown",
   "id": "23fff51c",
   "metadata": {},
   "source": [
    "class attributes are defined outside the __init__() function.\n",
    "\n",
    "On the other hand, instance attributes, which are defined in the __init__() function, are class variables that allow us to define different values for each object of a class.\n",
    "\n",
    "class attributes remain the same for every object and are defined outside the __init__() function. Instance attributes are somewhat dynamic because they can have different values in each object."
   ]
  },
  {
   "cell_type": "code",
   "execution_count": 44,
   "id": "b48c90d8",
   "metadata": {},
   "outputs": [
    {
     "name": "stdout",
     "output_type": "stream",
     "text": [
      "Jane JavaScript\n",
      "John Python\n",
      "ineuron\n"
     ]
    }
   ],
   "source": [
    "class Student:\n",
    "    school = \"ineuron\"   #The school variable acts as a class attribute\n",
    "    \n",
    "    def __init__(self, name, course):\n",
    "        self.name = name     #name and course are instance attributes\n",
    "        self.course = course\n",
    "    \n",
    "Student1 = Student(\"Jane\", \"JavaScript\")\n",
    "Student2 = Student(\"John\", \"Python\")\n",
    "\n",
    "print(Student1.name,Student1.course) \n",
    "print(Student2.name,Student2.course)\n",
    "print(Student1.school) "
   ]
  },
  {
   "cell_type": "markdown",
   "id": "f9b9db2a",
   "metadata": {},
   "source": [
    "### Q13. What does the term \"self\" in a Python class mean?"
   ]
  },
  {
   "cell_type": "markdown",
   "id": "5057e475",
   "metadata": {},
   "source": [
    "self represents the instance of the class. By using the “self”  we can access the attributes and methods of the class in python. It binds the attributes with the given arguments.\n",
    "\n",
    "The reason you need to use self. is because Python does not use the @ syntax to refer to instance attributes. Python decided to do methods in a way that makes the instance to which the method belongs be passed automatically, but not received automatically:Self is the first argument to be passed in Constructor and Instance Method."
   ]
  },
  {
   "cell_type": "code",
   "execution_count": 1,
   "id": "28cefe22",
   "metadata": {},
   "outputs": [
    {
     "name": "stdout",
     "output_type": "stream",
     "text": [
      "Address of self =  2114536246000\n",
      "Address of class object =  2114536246000\n"
     ]
    }
   ],
   "source": [
    "#it is clearly seen that self and obj is referring to the same object\n",
    "  \n",
    "class new:\n",
    "    def __init__(self):\n",
    "        print(\"Address of self = \",id(self))\n",
    "  \n",
    "obj = new()\n",
    "print(\"Address of class object = \",id(obj))"
   ]
  },
  {
   "cell_type": "markdown",
   "id": "63e24578",
   "metadata": {},
   "source": [
    "### Q14. How does a Python class handle operator overloading?"
   ]
  },
  {
   "cell_type": "markdown",
   "id": "ebeca9a0",
   "metadata": {},
   "source": [
    "Operator Overloading means giving extended meaning beyond their predefined operational meaning.\n",
    "\n",
    "Python provides some special function or magic function that is automatically invoked when it is associated with that particular operator. For example, when we use + operator, the magic method __add__ is automatically invoked in which the operation for + operator is defined."
   ]
  },
  {
   "cell_type": "code",
   "execution_count": null,
   "id": "9f0e29f3",
   "metadata": {},
   "outputs": [],
   "source": [
    "class check:\n",
    "    def __init__(self, a):\n",
    "        self.a = a\n",
    " \n",
    "    # adding two objects\n",
    "    def __add__(self, o):\n",
    "        return self.a + o.a\n",
    "ob1 = check(1)\n",
    "ob2 = check(8)\n",
    "ob3 = check(\"bigdata\")\n",
    "ob4 = check(\" python\")\n",
    " \n",
    "print(ob1 + ob2)\n",
    "print(ob3 + ob4)\n",
    "# Actual working when Binary Operator is used.\n",
    "print(check.__add__(ob1 , ob2))\n",
    "print(check.__add__(ob3,ob4))"
   ]
  },
  {
   "cell_type": "markdown",
   "id": "4cef1fc2",
   "metadata": {},
   "source": [
    "We defined the special function “__add__( )”  and when the objects ob1 and ob2 are coded as “ob1 + ob2“, the special function is automatically called as ob1.__add__(ob2) which simply means that ob1 calls the __add__( ) function with ob2 as an Argument and It actually means A .__add__(ob1, ob2). Hence, when the Binary operator is overloaded, the object before the operator calls the respective function with object after operator as parameter."
   ]
  },
  {
   "cell_type": "markdown",
   "id": "8026bd9e",
   "metadata": {},
   "source": [
    "### Q15. When do you consider allowing operator overloading of your classes?"
   ]
  },
  {
   "cell_type": "markdown",
   "id": "d9b2268c",
   "metadata": {},
   "source": [
    "When we use an operator on user-defined data types then automatically a special function or magic function associated with that operator is invoked. Changing the behavior of operator is as simple as changing the behavior of a method or function. You define methods in your class and operators work according to that behavior defined in methods. When we use + operator, the magic method __add__ is automatically invoked in which the operation for + operator is defined. Thereby changing this magic method’s code, we can give extra meaning to the + operator. \n",
    "\n",
    "Whenever you change the behavior of the existing operator through operator overloading, you have to redefine the special function that is invoked automatically when the operator is used with the objects"
   ]
  },
  {
   "cell_type": "markdown",
   "id": "ee8b924a",
   "metadata": {},
   "source": [
    "### Q16. What is the most popular form of operator overloading?\n"
   ]
  },
  {
   "cell_type": "markdown",
   "id": "cce51ab6",
   "metadata": {},
   "source": [
    "The most popular form of operator overloading in Python is to define special methods in a class that have the same name as the operator you want to overload. For example: to overload the '+' operator, you would define a method named 'add()'. To overload the '-' operator, you would define a method named 'sub()', and so on. Eg: class MyClass: def init(self, value): self.value = value\n",
    "\n",
    "def add(self, other): return self.value + other.value"
   ]
  },
  {
   "cell_type": "markdown",
   "id": "859878a4",
   "metadata": {},
   "source": [
    "### Q17. What are the two most important concepts to grasp in order to comprehend Python OOP code?"
   ]
  },
  {
   "cell_type": "markdown",
   "id": "0f2e9a74",
   "metadata": {},
   "source": [
    "Both inheritance and polymorphism are fundamental concepts of object oriented programming. These concepts help us to create code that can be extended and easily maintainable.\n",
    "\n",
    "Inheritance is a great way to eliminate unnecessary repetitive code. A child class can inherit from the parent class partially or entirely. Python is quite flexible with regards to inheritance. We can add new attributes and methods as well as modify the existing ones.\n",
    "\n",
    "Polymorphism contributes to Python’s flexibility as well. An object with a particular type can be used as if it belonged to a different type. We have seen an example of it with the give_raise method."
   ]
  },
  {
   "cell_type": "markdown",
   "id": "6cc17eae",
   "metadata": {},
   "source": [
    "### Q18. Describe three applications for exception processing."
   ]
  },
  {
   "cell_type": "markdown",
   "id": "47e6fd8a",
   "metadata": {},
   "source": [
    "Exceptions allow programmers to jump an exception handler in a single step, abandoning all function calls.\n",
    "The try...except block is used to handle exceptions in Python. Here's the syntax of try...except block:"
   ]
  },
  {
   "cell_type": "markdown",
   "id": "aad2c52c",
   "metadata": {},
   "source": [
    "1)Validating user input: When your program accepts input from a user or another source, you can use exception processing to validate that the input is in the correct format and meets certain criteria. For example, you can use exception handling to check that a user has entered a valid email address, or that a number they have entered is within a certain range.\n",
    "\n",
    "2)Handling network and file operations: When your program performs operations on external resources, such as a network or a file system, there is a risk that the operation could fail due to a network outage, a file not being found, or other issues. Using exception processing, you can handle these failures gracefully and provide feedback to the user, or take other appropriate actions.\n",
    "\n",
    "3)Debugging and testing: Exception processing can also be used as a tool for debugging and testing your code. By using try-except blocks and raising specific exceptions, you can identify and isolate specific problems in your code, and test how your code behaves when it encounters those problems. This can help you find and fix errors, and ensure that your code is robust and reliable."
   ]
  },
  {
   "cell_type": "markdown",
   "id": "b8d6da50",
   "metadata": {},
   "source": [
    "### Q19. What happens if you don't do something extra to treat an exception?"
   ]
  },
  {
   "cell_type": "markdown",
   "id": "cf4d5787",
   "metadata": {},
   "source": [
    "Exceptions are raised when the program encounters an error during its execution. They disrupt the normal flow of the program and usually end it abruptly. "
   ]
  },
  {
   "cell_type": "markdown",
   "id": "1e34ba9f",
   "metadata": {},
   "source": [
    "### Q20. What are your options for recovering from an exception in your script?"
   ]
  },
  {
   "cell_type": "code",
   "execution_count": null,
   "id": "3c188029",
   "metadata": {},
   "outputs": [],
   "source": [
    "a = ['big', 'data', 3]\n",
    "try: \n",
    "    print (\"Second element = %d\" %(a[1]))\n",
    "  \n",
    "    # Throws error since there are only 3 elements in array\n",
    "    print (\"Fourth element = %d\" %(a[3]))\n",
    "  \n",
    "except:\n",
    "    print (\"An error occurred\")"
   ]
  },
  {
   "cell_type": "code",
   "execution_count": null,
   "id": "6fa1adb5",
   "metadata": {},
   "outputs": [],
   "source": [
    "#Try with Else Clause\n",
    "def zde(a , b):\n",
    "    try:\n",
    "        c = ((a+b) / (a-b))\n",
    "    except ZeroDivisionError:\n",
    "        print (\"a/b result in 0\")\n",
    "    else:\n",
    "        print (c)\n",
    "\n",
    "zde(2.0, 3.0)\n",
    "zde(3.0, 3.0)"
   ]
  },
  {
   "cell_type": "code",
   "execution_count": null,
   "id": "fb708fcd",
   "metadata": {},
   "outputs": [],
   "source": [
    "# Python program to demonstrate finally\n",
    "  \n",
    "# No exception Exception raised in try block\n",
    "try:\n",
    "    k = 1//0  # raises divide by zero exception.\n",
    "    print(k)\n",
    "  \n",
    "# handles zerodivision exception\n",
    "except ZeroDivisionError:\n",
    "    print(\"Can't divide by zero\")\n",
    "  \n",
    "finally:\n",
    "    # this block is always executed\n",
    "    # regardless of exception generation.\n",
    "    print('This is always executed')"
   ]
  },
  {
   "cell_type": "markdown",
   "id": "ae450b06",
   "metadata": {},
   "source": [
    "### Q21. Describe two methods for triggering exceptions in your script."
   ]
  },
  {
   "cell_type": "markdown",
   "id": "b2c9f54a",
   "metadata": {},
   "source": [
    "Python provides two very important features to handle any unexpected error in your Python programs and to add debugging capabilities in them −\n",
    "Use the raise keyword: To trigger an exception in Python, you can use the raise keyword, followed by the type of exception you want to raise. For example: to raise a ValueError exception, you can use the following code: Eg. raise ValueError(\"Invalid input\")\n",
    "\n",
    "Use the assert keyword: Another way to trigger an exception in Python is to use the assert keyword, followed by a condition that you want to test. If the condition evaluates to False, an AssertionError exception will be raised. For example: you can use the following code to trigger an AssertionError exception if the variable x is not equal to 5. assert x == 5, \"x must be 5\" Eg: assert x == 5, \"x must be 5\" "
   ]
  },
  {
   "cell_type": "markdown",
   "id": "e44c68f8",
   "metadata": {},
   "source": [
    "### Q22. Identify two methods for specifying actions to be executed at termination time, regardless of whether or not an exception exists."
   ]
  },
  {
   "cell_type": "markdown",
   "id": "d5616889",
   "metadata": {},
   "source": [
    "There are two methods for specifying actions to be executed at termination time in Python, regardless of whether or not an exception exists:\n",
    "\n",
    "1)Use a finally block: The first method for specifying actions to be executed at termination time is to use a finally block. This block of code can be used in conjunction with a try-except block, and it will be executed regardless of whether an exception is raised or not. "
   ]
  },
  {
   "cell_type": "markdown",
   "id": "4ea116b2",
   "metadata": {},
   "source": [
    "2)Use a with statement: Another way to specify actions to be executed at termination time is to use a with statement. This statement allows you to define a context for a block of code, and specify actions to be taken when the block of code starts and when it ends."
   ]
  },
  {
   "cell_type": "markdown",
   "id": "eac018bd",
   "metadata": {},
   "source": [
    "### Q23. What is the purpose of the try statement?"
   ]
  },
  {
   "cell_type": "markdown",
   "id": "1b2ef986",
   "metadata": {},
   "source": [
    "try: the code with the exception(s) to catch. If an exception is raised, it jumps straight into the except block."
   ]
  },
  {
   "cell_type": "markdown",
   "id": "bb343321",
   "metadata": {},
   "source": [
    "### Q24. What are the two most popular try statement variations?"
   ]
  },
  {
   "cell_type": "markdown",
   "id": "e7accf75",
   "metadata": {},
   "source": [
    "The try-except block: The try-except block is the most commonly used variation of the try statement. It consists of a try block, which is the block of code that you want to test for errors, and one or more except blocks, which specify how to handle any errors that are raised in the try block. "
   ]
  },
  {
   "cell_type": "markdown",
   "id": "b8360100",
   "metadata": {},
   "source": [
    "The try-finally block: The try-finally block is another variation of the try statement. It consists of a try block, which is the block of code that you want to test for errors, and a finally block, which specifies code that will be executed regardless of whether an exception is raised or not. "
   ]
  },
  {
   "cell_type": "markdown",
   "id": "fd8db6c8",
   "metadata": {},
   "source": [
    "### Q25. What is the purpose of the raise statement?"
   ]
  },
  {
   "cell_type": "markdown",
   "id": "065c9e72",
   "metadata": {},
   "source": [
    "The purpose of the raise statement in Python is to raise an exception. This allows you to explicitly trigger an exception in your code, and specify how the exception should be handled. The raise statement consists of the raise keyword, followed by the type of exception you want to raise and any additional arguments or information that you want to include with the exception. For example, to raise a ValueError exception with the message \"Invalid input\". Eg: raise ValueError(\"Invalid input\")"
   ]
  },
  {
   "cell_type": "markdown",
   "id": "511ded65",
   "metadata": {},
   "source": [
    "### Q26. What does the assert statement do, and what other statement is it like?"
   ]
  },
  {
   "cell_type": "markdown",
   "id": "e528f9b4",
   "metadata": {},
   "source": [
    "The assert statement in Python allows you to test a condition, and trigger an AssertionError exception if the condition evaluates to False. This can be useful for checking the validity of arguments or input data, and for ensuring that your code is working correctly.\n",
    "\n",
    "The assert statement consists of the assert keyword, followed by a condition that you want to test, and an optional message that will be included with the AssertionError exception if the condition evaluates to False. For example, to trigger an AssertionError exception if the variable x is not equal to 5. Eg: assert x == 5, \"x must be 5\"\n",
    "\n",
    "The assert statement is similar to the if statement, as it allows you to specify a condition and take different actions depending on whether the condition is True or False. However, while the if statement allows you to execute different code blocks depending on the result of the condition, the assert statement always triggers an AssertionError exception if the condition evaluates to False. This makes it useful for testing and debugging your code, but it also means that you should use it carefully, as it can cause your program to terminate if the condition evaluates to False."
   ]
  },
  {
   "cell_type": "markdown",
   "id": "fdd16028",
   "metadata": {},
   "source": [
    "### Q27. What is the purpose of the with/as argument, and what other statement is it like?"
   ]
  },
  {
   "cell_type": "markdown",
   "id": "c0426fcd",
   "metadata": {},
   "source": [
    " the with statement replaces a try-catch block with a concise shorthand. More importantly, it ensures closing resources right after processing them. A common example of using the with statement is reading or writing to a file. A function or class that supports the with statement is known as a context manager. A context manager allows you to open and close resources right when you want to. For example, the open() function is a context manager. When you call the open() function using the with statement, the file closes automatically after you’ve processed the file.\n",
    " \n",
    "To open and write to a file in Python, you can use the with statement as follows"
   ]
  },
  {
   "cell_type": "code",
   "execution_count": 21,
   "id": "c926960c",
   "metadata": {},
   "outputs": [],
   "source": [
    "with open(\"example.txt\", \"w\") as file:\n",
    "    file.write(\"Hello World!\")"
   ]
  },
  {
   "cell_type": "markdown",
   "id": "b114b5f4",
   "metadata": {},
   "source": [
    "The with statement is a replacement for commonly used try/finally error-handling statements."
   ]
  },
  {
   "cell_type": "code",
   "execution_count": 22,
   "id": "9d8a498d",
   "metadata": {},
   "outputs": [],
   "source": [
    "f = open(\"example.txt\", \"w\")\n",
    "try:\n",
    "    f.write(\"hello world\")\n",
    "finally:\n",
    "    f.close()"
   ]
  },
  {
   "cell_type": "markdown",
   "id": "1cfd0a58",
   "metadata": {},
   "source": [
    "### Q28. What are *args, **kwargs?"
   ]
  },
  {
   "cell_type": "markdown",
   "id": "86e6e20a",
   "metadata": {},
   "source": [
    "As in the above example we are not sure about the number of arguments that can be passed to a function. Python has As in the above example we are not sure about the number of arguments that can be passed to a function."
   ]
  },
  {
   "cell_type": "code",
   "execution_count": 20,
   "id": "5db330ea",
   "metadata": {},
   "outputs": [
    {
     "name": "stdout",
     "output_type": "stream",
     "text": [
      "Sum: 8\n"
     ]
    }
   ],
   "source": [
    "def adder(*num):\n",
    "    sum = 0\n",
    "    \n",
    "    for n in num:\n",
    "        sum = sum + n\n",
    "\n",
    "    print(\"Sum:\",sum)\n",
    "\n",
    "adder(3,5)"
   ]
  },
  {
   "cell_type": "markdown",
   "id": "f9d70a39",
   "metadata": {},
   "source": [
    "Python passes variable length non keyword argument to function using *args but we cannot use this to pass keyword argument. For this problPython passes variable length non keyword argument to function using *args but we cannot use this to pass keyword argument."
   ]
  },
  {
   "cell_type": "markdown",
   "id": "f3a17acb",
   "metadata": {},
   "source": [
    "### Q29. How can I pass optional or keyword parameters from one function to another?"
   ]
  },
  {
   "cell_type": "markdown",
   "id": "8a226469",
   "metadata": {},
   "source": [
    "In Python, you can pass optional or keyword parameters from one function to another by using the * and ** syntax to unpack the arguments and keyword arguments. suppose you have a function func1() that takes two optional arguments and one keyword argument, and you want to call another function func2() with the same arguments and keyword arguments. Eg: def func1(arg1, arg2, kwarg1=None)"
   ]
  },
  {
   "cell_type": "markdown",
   "id": "1679fd27",
   "metadata": {},
   "source": [
    "### Q30. What are Lambda Functions?"
   ]
  },
  {
   "cell_type": "markdown",
   "id": "a0a16437",
   "metadata": {},
   "source": [
    "Python Lambda Functions are anonymous function means that the function is without a name.\n",
    "This function can have any number of arguments but only one expression, which is evaluated and returned.\n",
    "One is free to use lambda functions wherever function objects are required."
   ]
  },
  {
   "cell_type": "markdown",
   "id": "9c455e95",
   "metadata": {},
   "source": [
    "Through this, you will get the positional arguments as a tuple and the keyword arguments as a dictionary. Pass these arguments when calling another function by using * and ** −"
   ]
  },
  {
   "cell_type": "code",
   "execution_count": 18,
   "id": "9ce35544",
   "metadata": {},
   "outputs": [
    {
     "name": "stdout",
     "output_type": "stream",
     "text": [
      "10\n",
      "20\n",
      "30\n",
      "40\n"
     ]
    }
   ],
   "source": [
    "is_even_list = [lambda arg=x: arg * 10 for x in range(1, 5)]\n",
    "# iterate on each lambda function #List Comprehension\n",
    "# and invoke the function to get the calculated value\n",
    "for item in is_even_list:\n",
    "    print(item())"
   ]
  },
  {
   "cell_type": "markdown",
   "id": "bd692839",
   "metadata": {},
   "source": [
    "### Q31. Explain Inheritance in Python with an example?"
   ]
  },
  {
   "cell_type": "markdown",
   "id": "b3b3c4f6",
   "metadata": {},
   "source": [
    "Inheritance allows us to define a class that inherits all the methods and properties from another class.\n",
    "\n",
    "Parent class is the class being inherited from, also called base class.\n",
    "\n",
    "Child class is the class that inherits from another class, also called derived class."
   ]
  },
  {
   "cell_type": "code",
   "execution_count": 13,
   "id": "6fff0427",
   "metadata": {},
   "outputs": [
    {
     "name": "stdout",
     "output_type": "stream",
     "text": [
      "14\n"
     ]
    }
   ],
   "source": [
    "#Multiple Inheritance\n",
    "class SuperClass1:\n",
    "    num1 = 9\n",
    "class SuperClass2:\n",
    "    num2 = 5\n",
    "class SubClass( SuperClass1, SuperClass2):\n",
    "    def addition(self):\n",
    "        return self.num1 + self.num2\n",
    "obj = SubClass()\n",
    "print(obj.addition())"
   ]
  },
  {
   "cell_type": "code",
   "execution_count": 15,
   "id": "21b672cc",
   "metadata": {},
   "outputs": [
    {
     "name": "stdout",
     "output_type": "stream",
     "text": [
      "Pythonbigdata\n"
     ]
    }
   ],
   "source": [
    "#multi level Inheritance\n",
    "class Parent:\n",
    "    str1 = \"Python\"\n",
    "class Child(Parent):\n",
    "    str2 = \"bigdata\"\n",
    "class GrandChild(Child):\n",
    "    def get_str(self):\n",
    "        print(self.str1 + self.str2)\n",
    "person = GrandChild()\n",
    "person.get_str()"
   ]
  },
  {
   "cell_type": "code",
   "execution_count": 16,
   "id": "a5cb8d70",
   "metadata": {},
   "outputs": [
    {
     "name": "stdout",
     "output_type": "stream",
     "text": [
      "10\n"
     ]
    }
   ],
   "source": [
    "#hybrid inheritance\n",
    "class X:\n",
    "    num = 10\n",
    "class A(X):\n",
    "    pass\n",
    "class B(A):\n",
    "    pass\n",
    "class C(A):\n",
    "    pass\n",
    "class D(B, C):\n",
    "    pass\n",
    "ob = D()\n",
    "print(D.num)"
   ]
  },
  {
   "cell_type": "markdown",
   "id": "96796bf3",
   "metadata": {},
   "source": [
    "### Q32. Suppose class C inherits from classes A and B as class C(A,B).Classes A and B both have their own versions of method func(). If we call func() from an object of class C, which version gets invoked?"
   ]
  },
  {
   "cell_type": "markdown",
   "id": "d5e89272",
   "metadata": {},
   "source": [
    " In Python, when a class inherits from multiple parent classes, the method resolution order (MRO) determines which version of a method will be invoked when it is called from an object of the child class. In the case of the example you provided, where class C inherits from classes A and B as class C(A,B), and both classes A and B have their own versions of the func() method, the MRO will determine which version of the func() method gets invoked when it is called from an object of class C."
   ]
  },
  {
   "cell_type": "markdown",
   "id": "be780ec9",
   "metadata": {},
   "source": [
    "### Q33. Which methods/functions do we use to determine the type of instance and inheritance?"
   ]
  },
  {
   "cell_type": "markdown",
   "id": "04c44877",
   "metadata": {},
   "source": [
    "The isinstance() method checks whether an object is an instance of a class whereas issubclass() method asks whether one class is a subclass of another class (or other classes).\n",
    "\n",
    "isinstance(object, classinfo)\n",
    "Return true if the object argument is an instance of the classinfo argument, or of a (direct, indirect or virtual) subclass thereof.\n",
    "\n",
    "issubclass(class, classinfo)\n",
    "Return true if class is a subclass (direct, indirect or virtual) of classinfo. A class is considered a subclass of itself."
   ]
  },
  {
   "cell_type": "code",
   "execution_count": 9,
   "id": "b718b309",
   "metadata": {},
   "outputs": [
    {
     "name": "stdout",
     "output_type": "stream",
     "text": [
      "True\n",
      "True\n",
      "False\n"
     ]
    }
   ],
   "source": [
    "class Class(object):\n",
    "  pass\n",
    "class SubClass(Class):\n",
    "  pass\n",
    "print(isinstance(SubClass, object))\n",
    "print(issubclass(SubClass, Class))\n",
    "print(isinstance(SubClass, Class))"
   ]
  },
  {
   "cell_type": "markdown",
   "id": "d3c9de07",
   "metadata": {},
   "source": [
    "### Q34.Explain the use of the 'nonlocal' keyword in Python."
   ]
  },
  {
   "cell_type": "markdown",
   "id": "aaae7e0a",
   "metadata": {},
   "source": [
    "Python nonlocal keyword is used to reference a variable in the nearest scope. "
   ]
  },
  {
   "cell_type": "code",
   "execution_count": 7,
   "id": "bb279039",
   "metadata": {},
   "outputs": [
    {
     "name": "stdout",
     "output_type": "stream",
     "text": [
      "assignment\n",
      "assignment\n"
     ]
    }
   ],
   "source": [
    "def new():\n",
    "    name = \"bigdata\" #local variable\n",
    "    def bar():\n",
    "        nonlocal name    # Reference name in the upper scope & The nonlocal keyword can only be used inside nested structures.\n",
    "        name = 'assignment' # Overwrite this variable,the memory address of the variable is also reused and it saves memory.\n",
    "        print(name)\n",
    "    bar() \n",
    "    # Printing local variable\n",
    "    print(name)\n",
    "new()"
   ]
  },
  {
   "cell_type": "markdown",
   "id": "d48f4458",
   "metadata": {},
   "source": [
    "### Q35. What is the global keyword?"
   ]
  },
  {
   "cell_type": "markdown",
   "id": "df1cc218",
   "metadata": {},
   "source": [
    "A global keyword is a keyword that allows a user to modify a variable outside the current scope. It is used to create global variables in Python from a non-global scope, i.e. inside a function. Global keyword is used inside a function only when we want to do assignments or when we want to change a variable. Global is not needed for printing and accessing.\n",
    "\n",
    "Rules of global keyword:\n",
    "\n",
    "If a variable is assigned a value anywhere within the function’s body, it’s assumed to be a local unless explicitly declared as global.\n",
    "Variables that are only referenced inside a function are implicitly global.\n",
    "We use a global keyword to use a global variable inside a function.\n",
    "There is no need to use global keywords outside a function.\n",
    "Use of global keyword in Python: To access a global variable inside a function, there is no need to use a global keyword. "
   ]
  },
  {
   "cell_type": "code",
   "execution_count": 4,
   "id": "6f09477c",
   "metadata": {},
   "outputs": [
    {
     "name": "stdout",
     "output_type": "stream",
     "text": [
      "Value of x inside a function : 15\n",
      "Value of x outside a function : 15\n"
     ]
    }
   ],
   "source": [
    "x = 10\n",
    "def change():\n",
    "    # using a global keyword\n",
    "    global x\n",
    "    x = x+5\n",
    "    print(\"Value of x inside a function :\", x)\n",
    " \n",
    " \n",
    "change()\n",
    "print(\"Value of x outside a function :\", x)"
   ]
  }
 ],
 "metadata": {
  "kernelspec": {
   "display_name": "Python 3",
   "language": "python",
   "name": "python3"
  },
  "language_info": {
   "codemirror_mode": {
    "name": "ipython",
    "version": 3
   },
   "file_extension": ".py",
   "mimetype": "text/x-python",
   "name": "python",
   "nbconvert_exporter": "python",
   "pygments_lexer": "ipython3",
   "version": "3.8.8"
  }
 },
 "nbformat": 4,
 "nbformat_minor": 5
}
